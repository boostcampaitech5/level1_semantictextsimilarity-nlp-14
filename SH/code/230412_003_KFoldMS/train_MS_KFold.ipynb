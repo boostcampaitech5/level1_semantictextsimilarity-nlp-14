{
 "cells": [
  {
   "cell_type": "code",
   "execution_count": 2,
   "id": "93b85ded-e582-4021-b933-8a6b29e02999",
   "metadata": {
    "tags": []
   },
   "outputs": [
    {
     "name": "stderr",
     "output_type": "stream",
     "text": [
      "/opt/conda/lib/python3.8/site-packages/tqdm/auto.py:21: TqdmWarning: IProgress not found. Please update jupyter and ipywidgets. See https://ipywidgets.readthedocs.io/en/stable/user_install.html\n",
      "  from .autonotebook import tqdm as notebook_tqdm\n"
     ]
    }
   ],
   "source": [
    "import argparse\n",
    "\n",
    "import pandas as pd\n",
    "import numpy as np\n",
    "import random\n",
    "\n",
    "from tqdm.auto import tqdm\n",
    "\n",
    "import transformers\n",
    "import torch\n",
    "import torchmetrics\n",
    "import pytorch_lightning as pl\n",
    "\n",
    "import wandb\n",
    "from pytorch_lightning.loggers import WandbLogger\n",
    "from pytorch_lightning.tuner import Tuner\n",
    "\n",
    "from sklearn.model_selection import KFold"
   ]
  },
  {
   "cell_type": "code",
   "execution_count": 3,
   "id": "7857f1a4-cc03-4ee3-8a94-4a0e68e40316",
   "metadata": {
    "tags": []
   },
   "outputs": [],
   "source": [
    "class Dataset(torch.utils.data.Dataset):\n",
    "    def __init__(self, inputs, targets=[]):\n",
    "        self.inputs = inputs\n",
    "        self.targets = targets\n",
    "\n",
    "    # 학습 및 추론 과정에서 데이터를 1개씩 꺼내오는 곳\n",
    "    def __getitem__(self, idx):\n",
    "        # 정답이 있다면 else문을, 없다면 if문을 수행합니다\n",
    "        if len(self.targets) == 0:\n",
    "            return torch.tensor(self.inputs[idx])\n",
    "        else:\n",
    "            return torch.tensor(self.inputs[idx]), torch.tensor(self.targets[idx])\n",
    "\n",
    "    # 입력하는 개수만큼 데이터를 사용합니다\n",
    "    def __len__(self):\n",
    "        return len(self.inputs)"
   ]
  },
  {
   "cell_type": "code",
   "execution_count": 4,
   "id": "645e0dab-d425-4fcd-a4bd-6dd6e77e228d",
   "metadata": {
    "tags": []
   },
   "outputs": [],
   "source": [
    "class Dataloader(pl.LightningDataModule):\n",
    "    def __init__(self, model_name, batch_size, shuffle, train_path, dev_path, test_path, predict_path):\n",
    "        super().__init__()\n",
    "        self.model_name = model_name\n",
    "        self.batch_size = batch_size\n",
    "        self.shuffle = shuffle\n",
    "\n",
    "        self.train_path = train_path\n",
    "        self.dev_path = dev_path\n",
    "        self.test_path = test_path\n",
    "        self.predict_path = predict_path\n",
    "\n",
    "        self.train_dataset = None\n",
    "        self.val_dataset = None\n",
    "        self.test_dataset = None\n",
    "        self.predict_dataset = None\n",
    "\n",
    "        self.tokenizer = transformers.AutoTokenizer.from_pretrained(model_name, max_length=128)\n",
    "        self.target_columns = ['label']\n",
    "        self.delete_columns = ['id']\n",
    "        self.text_columns = ['sentence_1', 'sentence_2']\n",
    "\n",
    "    def tokenizing(self, dataframe):\n",
    "        data = []\n",
    "        for idx, item in tqdm(dataframe.iterrows(), desc='tokenizing', total=len(dataframe)):\n",
    "            # 두 입력 문장을 [SEP] 토큰으로 이어붙여서 전처리합니다.\n",
    "            text = '[SEP]'.join([item[text_column] for text_column in self.text_columns])\n",
    "            outputs = self.tokenizer(text, add_special_tokens=True, padding='max_length', truncation=True)\n",
    "            data.append(outputs['input_ids'])\n",
    "        return data\n",
    "\n",
    "    def preprocessing(self, data):\n",
    "        # 안쓰는 컬럼을 삭제합니다.\n",
    "        data = data.drop(columns=self.delete_columns)\n",
    "\n",
    "        # 타겟 데이터가 없으면 빈 배열을 리턴합니다.\n",
    "        try:\n",
    "            targets = data[self.target_columns].values.tolist()\n",
    "        except:\n",
    "            targets = []\n",
    "        # 텍스트 데이터를 전처리합니다.\n",
    "        inputs = self.tokenizing(data)\n",
    "\n",
    "        return inputs, targets\n",
    "\n",
    "    def setup(self, stage='fit'):\n",
    "        if stage == 'fit':\n",
    "            # 학습 데이터와 검증 데이터셋을 호출합니다\n",
    "            train_data = pd.read_csv(self.train_path)\n",
    "            val_data = pd.read_csv(self.dev_path)\n",
    "\n",
    "            # 학습데이터 준비\n",
    "            train_inputs, train_targets = self.preprocessing(train_data)\n",
    "\n",
    "            # 검증데이터 준비\n",
    "            val_inputs, val_targets = self.preprocessing(val_data)\n",
    "\n",
    "            # train 데이터만 shuffle을 적용해줍니다, 필요하다면 val, test 데이터에도 shuffle을 적용할 수 있습니다\n",
    "            self.train_dataset = Dataset(train_inputs, train_targets)\n",
    "            self.val_dataset = Dataset(val_inputs, val_targets)\n",
    "        else:\n",
    "            # 평가데이터 준비\n",
    "            test_data = pd.read_csv(self.test_path)\n",
    "            test_inputs, test_targets = self.preprocessing(test_data)\n",
    "            self.test_dataset = Dataset(test_inputs, test_targets)\n",
    "\n",
    "            predict_data = pd.read_csv(self.predict_path)\n",
    "            predict_inputs, predict_targets = self.preprocessing(predict_data)\n",
    "            self.predict_dataset = Dataset(predict_inputs, [])\n",
    "\n",
    "    def train_dataloader(self):\n",
    "        return torch.utils.data.DataLoader(self.train_dataset, batch_size=self.batch_size, shuffle=args.shuffle)\n",
    "\n",
    "    def val_dataloader(self):\n",
    "        return torch.utils.data.DataLoader(self.val_dataset, batch_size=self.batch_size)\n",
    "\n",
    "    def test_dataloader(self):\n",
    "        return torch.utils.data.DataLoader(self.test_dataset, batch_size=self.batch_size)\n",
    "\n",
    "    def predict_dataloader(self):\n",
    "        return torch.utils.data.DataLoader(self.predict_dataset, batch_size=self.batch_size)"
   ]
  },
  {
   "cell_type": "code",
   "execution_count": 5,
   "id": "dff782c4-b1ab-4a44-9c59-c4fd1d448425",
   "metadata": {
    "tags": []
   },
   "outputs": [],
   "source": [
    "class KfoldDataloader(pl.LightningDataModule):\n",
    "    def __init__(self, model_name, batch_size, shuffle, k, split_seed, num_splits, train_path, dev_path, test_path, predict_path):\n",
    "        super().__init__()\n",
    "        self.model_name = model_name\n",
    "        self.batch_size = batch_size\n",
    "        self.shuffle = shuffle\n",
    "        self.k = k\n",
    "        self.split_seed = split_seed\n",
    "        self.num_splits = num_splits\n",
    "\n",
    "        self.train_path = train_path\n",
    "        self.dev_path = dev_path\n",
    "        self.test_path = test_path\n",
    "        self.predict_path = predict_path\n",
    "        \n",
    "        self.train_dataset = None\n",
    "        self.val_dataset = None\n",
    "        self.test_dataset = None\n",
    "        self.predict_dataset = None\n",
    "\n",
    "        self.tokenizer = transformers.AutoTokenizer.from_pretrained(model_name, max_length=160)\n",
    "        self.target_columns = ['label']\n",
    "        self.delete_columns = ['id']\n",
    "        self.text_columns = ['sentence_1', 'sentence_2']\n",
    "\n",
    "    def tokenizing(self, dataframe):\n",
    "        data = []\n",
    "        for idx, item in tqdm(dataframe.iterrows(), desc='tokenizing', total=len(dataframe)):\n",
    "            # 두 입력 문장을 [SEP] 토큰으로 이어붙여서 전처리합니다.\n",
    "            text = '[SEP]'.join([item[text_column] for text_column in self.text_columns])\n",
    "            outputs = self.tokenizer(text, add_special_tokens=True, padding='max_length', truncation=True)\n",
    "            data.append(outputs['input_ids'])\n",
    "\n",
    "        return data\n",
    "\n",
    "    def preprocessing(self, data):\n",
    "        # 안쓰는 컬럼을 삭제합니다.\n",
    "        data = data.drop(columns=self.delete_columns)\n",
    "\n",
    "        # 타겟 데이터가 없으면 빈 배열을 리턴합니다.\n",
    "        try:\n",
    "            targets = data[self.target_columns].values.tolist()\n",
    "        except:\n",
    "            targets = []\n",
    "        # 텍스트 데이터를 전처리합니다.\n",
    "        inputs = self.tokenizing(data)\n",
    "\n",
    "        return inputs, targets\n",
    "\n",
    "    def setup(self, stage='fit'):\n",
    "        if stage == 'fit':\n",
    "            # 데이터 준비\n",
    "            total_data = pd.read_csv(self.train_path)\n",
    "            total_inputs, total_targets = self.preprocessing(total_data)\n",
    "            total_dataset = Dataset(total_inputs, total_targets)\n",
    "\n",
    "            # 데이터셋 num_splits 번 fold\n",
    "            kf = KFold(n_splits=self.num_splits, shuffle=self.shuffle, random_state=self.split_seed)\n",
    "            all_splits = [k for k in kf.split(total_data)]\n",
    "\n",
    "            # k번째 fold 된 데이터셋의 index 선택\n",
    "            train_indexes, val_indexes = all_splits[self.k]\n",
    "            train_indexes, val_indexes = train_indexes.tolist(), val_indexes.tolist()\n",
    "\n",
    "            # fold한 index에 따라 데이터셋 분할\n",
    "            self.train_dataset = [total_dataset[x] for x in train_indexes]\n",
    "            self.val_dataset = [total_dataset[x] for x in val_indexes]\n",
    "\n",
    "        else:\n",
    "            # 평가데이터 준비\n",
    "            test_data = pd.read_csv(self.test_path)\n",
    "            test_inputs, test_targets = self.preprocessing(test_data)\n",
    "            self.test_dataset = Dataset(test_inputs, test_targets)\n",
    "            \n",
    "            predict_data = pd.read_csv(self.predict_path)\n",
    "            predict_inputs, predict_targets = self.preprocessing(predict_data)\n",
    "            self.predict_dataset = Dataset(predict_inputs, [])\n",
    "\n",
    "    def train_dataloader(self):\n",
    "        return torch.utils.data.DataLoader(self.train_dataset, batch_size=self.batch_size, shuffle=self.shuffle)\n",
    "\n",
    "    def val_dataloader(self):\n",
    "        return torch.utils.data.DataLoader(self.val_dataset, batch_size=self.batch_size)\n",
    "\n",
    "    def test_dataloader(self):\n",
    "        return torch.utils.data.DataLoader(self.test_dataset, batch_size=self.batch_size)\n",
    "\n",
    "    def predict_dataloader(self):\n",
    "        return torch.utils.data.DataLoader(self.predict_dataset, batch_size=self.batch_size)"
   ]
  },
  {
   "cell_type": "code",
   "execution_count": 6,
   "id": "5341759a-c3fc-4c23-9b66-8f3a2d52ba75",
   "metadata": {
    "tags": []
   },
   "outputs": [],
   "source": [
    "class Model(pl.LightningModule):\n",
    "    def __init__(self, model_name, lr, weight_decay, warmup_steps, total_steps, loss_func):\n",
    "        super().__init__()\n",
    "        self.save_hyperparameters()\n",
    "\n",
    "        self.model_name = model_name\n",
    "        self.lr = lr\n",
    "        self.weight_decay = weight_decay\n",
    "        self.warmup_steps = warmup_steps\n",
    "        self.total_steps = total_steps\n",
    "\n",
    "        # 사용할 모델을 호출합니다.\n",
    "        self.plm = transformers.AutoModelForSequenceClassification.from_pretrained(\n",
    "            pretrained_model_name_or_path=model_name, num_labels=1)\n",
    "        # Loss 계산을 위해 사용될 손실함수를 호출합니다.\n",
    "        if loss_func == \"MSE\":\n",
    "            self.loss_func = torch.nn.MSELoss()\n",
    "        elif loss_func == \"L1\":\n",
    "            self.loss_func = torch.nn.L1Loss()\n",
    "        elif loss_func == \"Huber\":\n",
    "            self.loss_func = torch.nn.HuberLoss()\n",
    "\n",
    "    def forward(self, x):\n",
    "        x = self.plm(x)['logits']\n",
    "\n",
    "        return x\n",
    "\n",
    "    def training_step(self, batch, batch_idx):\n",
    "        x, y = batch\n",
    "        logits = self(x)\n",
    "        loss = self.loss_func(logits, y.float())\n",
    "        self.log(\"train_loss\", loss)\n",
    "\n",
    "        return loss\n",
    "\n",
    "    def validation_step(self, batch, batch_idx):\n",
    "        x, y = batch\n",
    "        logits = self(x)\n",
    "        loss = self.loss_func(logits, y.float())\n",
    "        self.log(\"val_loss\", loss)\n",
    "\n",
    "        self.log(\"val_pearson\", torchmetrics.functional.pearson_corrcoef(logits.squeeze(), y.squeeze()))\n",
    "\n",
    "        return loss\n",
    "\n",
    "    def test_step(self, batch, batch_idx):\n",
    "        x, y = batch\n",
    "        logits = self(x)\n",
    "\n",
    "        self.log(\"test_pearson\", torchmetrics.functional.pearson_corrcoef(logits.squeeze(), y.squeeze()))\n",
    "\n",
    "    def predict_step(self, batch, batch_idx):\n",
    "        x = batch\n",
    "        logits = self(x)\n",
    "\n",
    "        return logits.squeeze()\n",
    "\n",
    "    def configure_optimizers(self):\n",
    "        optimizer = torch.optim.AdamW(self.parameters(), lr=self.lr, weight_decay=self.weight_decay)\n",
    "        # lr scheduler를 이용해 warm-up stage 추가\n",
    "        scheduler = transformers.get_linear_schedule_with_warmup(\n",
    "            optimizer=optimizer,\n",
    "            num_warmup_steps=self.warmup_steps,\n",
    "            num_training_steps = self.total_steps\n",
    "        )\n",
    "        return (\n",
    "            [optimizer],\n",
    "            [\n",
    "                {\n",
    "                    'scheduler': scheduler,\n",
    "                    'interval': 'step',\n",
    "                    'frequency': 1,\n",
    "                    'reduce_on_plateau': False,\n",
    "                    'monitor': 'val_loss',\n",
    "                }\n",
    "            ]\n",
    "        )"
   ]
  },
  {
   "cell_type": "code",
   "execution_count": 7,
   "id": "0517c26d-9c67-42e1-830c-b6d187822b86",
   "metadata": {
    "tags": []
   },
   "outputs": [
    {
     "name": "stderr",
     "output_type": "stream",
     "text": [
      "Global seed set to 42\n",
      "\u001b[34m\u001b[1mwandb\u001b[0m: Currently logged in as: \u001b[33mtraintogpb\u001b[0m. Use \u001b[1m`wandb login --relogin`\u001b[0m to force relogin\n"
     ]
    },
    {
     "data": {
      "text/html": [
       "Tracking run with wandb version 0.14.2"
      ],
      "text/plain": [
       "<IPython.core.display.HTML object>"
      ]
     },
     "metadata": {},
     "output_type": "display_data"
    },
    {
     "data": {
      "text/html": [
       "Run data is saved locally in <code>./wandb/run-20230412_152214-99o2iwxn</code>"
      ],
      "text/plain": [
       "<IPython.core.display.HTML object>"
      ]
     },
     "metadata": {},
     "output_type": "display_data"
    },
    {
     "data": {
      "text/html": [
       "Syncing run <strong><a href='https://wandb.ai/traintogpb/MS_230412_002_KFold/runs/99o2iwxn' target=\"_blank\">mMS_230412_002_k10_r001</a></strong> to <a href='https://wandb.ai/traintogpb/MS_230412_002_KFold' target=\"_blank\">Weights & Biases</a> (<a href='https://wandb.me/run' target=\"_blank\">docs</a>)<br/>"
      ],
      "text/plain": [
       "<IPython.core.display.HTML object>"
      ]
     },
     "metadata": {},
     "output_type": "display_data"
    },
    {
     "data": {
      "text/html": [
       " View project at <a href='https://wandb.ai/traintogpb/MS_230412_002_KFold' target=\"_blank\">https://wandb.ai/traintogpb/MS_230412_002_KFold</a>"
      ],
      "text/plain": [
       "<IPython.core.display.HTML object>"
      ]
     },
     "metadata": {},
     "output_type": "display_data"
    },
    {
     "data": {
      "text/html": [
       " View run at <a href='https://wandb.ai/traintogpb/MS_230412_002_KFold/runs/99o2iwxn' target=\"_blank\">https://wandb.ai/traintogpb/MS_230412_002_KFold/runs/99o2iwxn</a>"
      ],
      "text/plain": [
       "<IPython.core.display.HTML object>"
      ]
     },
     "metadata": {},
     "output_type": "display_data"
    },
    {
     "name": "stderr",
     "output_type": "stream",
     "text": [
      "Some weights of the model checkpoint at klue/roberta-large were not used when initializing RobertaForSequenceClassification: ['lm_head.decoder.bias', 'lm_head.dense.weight', 'lm_head.bias', 'lm_head.layer_norm.weight', 'lm_head.layer_norm.bias', 'lm_head.decoder.weight', 'lm_head.dense.bias']\n",
      "- This IS expected if you are initializing RobertaForSequenceClassification from the checkpoint of a model trained on another task or with another architecture (e.g. initializing a BertForSequenceClassification model from a BertForPreTraining model).\n",
      "- This IS NOT expected if you are initializing RobertaForSequenceClassification from the checkpoint of a model that you expect to be exactly identical (initializing a BertForSequenceClassification model from a BertForSequenceClassification model).\n",
      "Some weights of RobertaForSequenceClassification were not initialized from the model checkpoint at klue/roberta-large and are newly initialized: ['classifier.out_proj.weight', 'classifier.dense.weight', 'classifier.dense.bias', 'classifier.out_proj.bias']\n",
      "You should probably TRAIN this model on a down-stream task to be able to use it for predictions and inference.\n",
      "tokenizing: 100%|██████████| 9324/9324 [00:03<00:00, 2904.78it/s]\n",
      "Using 16bit Automatic Mixed Precision (AMP)\n",
      "GPU available: True (cuda), used: True\n",
      "TPU available: False, using: 0 TPU cores\n",
      "IPU available: False, using: 0 IPUs\n",
      "HPU available: False, using: 0 HPUs\n",
      "tokenizing: 100%|██████████| 9324/9324 [00:03<00:00, 2464.94it/s]\n",
      "LOCAL_RANK: 0 - CUDA_VISIBLE_DEVICES: [0]\n",
      "\n",
      "  | Name      | Type                             | Params\n",
      "---------------------------------------------------------------\n",
      "0 | plm       | RobertaForSequenceClassification | 336 M \n",
      "1 | loss_func | L1Loss                           | 0     \n",
      "---------------------------------------------------------------\n",
      "336 M     Trainable params\n",
      "0         Non-trainable params\n",
      "336 M     Total params\n",
      "1,346.630 Total estimated model params size (MB)\n"
     ]
    },
    {
     "name": "stdout",
     "output_type": "stream",
     "text": [
      "Sanity Checking DataLoader 0:   0%|          | 0/2 [00:00<?, ?it/s]"
     ]
    },
    {
     "name": "stderr",
     "output_type": "stream",
     "text": [
      "/opt/conda/lib/python3.8/site-packages/pytorch_lightning/trainer/connectors/data_connector.py:430: PossibleUserWarning: The dataloader, val_dataloader, does not have many workers which may be a bottleneck. Consider increasing the value of the `num_workers` argument` (try 8 which is the number of cpus on this machine) in the `DataLoader` init to improve performance.\n",
      "  rank_zero_warn(\n"
     ]
    },
    {
     "name": "stdout",
     "output_type": "stream",
     "text": [
      "                                                                           \r"
     ]
    },
    {
     "name": "stderr",
     "output_type": "stream",
     "text": [
      "/opt/conda/lib/python3.8/site-packages/pytorch_lightning/trainer/connectors/data_connector.py:430: PossibleUserWarning: The dataloader, train_dataloader, does not have many workers which may be a bottleneck. Consider increasing the value of the `num_workers` argument` (try 8 which is the number of cpus on this machine) in the `DataLoader` init to improve performance.\n",
      "  rank_zero_warn(\n"
     ]
    },
    {
     "name": "stdout",
     "output_type": "stream",
     "text": [
      "Epoch 0: 100%|██████████| 525/525 [04:48<00:00,  1.82it/s, v_num=iwxn]\n",
      "Validation: 0it [00:00, ?it/s]\u001b[A\n",
      "Validation:   0%|          | 0/59 [00:00<?, ?it/s]\u001b[A\n",
      "Validation DataLoader 0:   0%|          | 0/59 [00:00<?, ?it/s]\u001b[A\n",
      "Validation DataLoader 0:   2%|▏         | 1/59 [00:00<00:02, 21.57it/s]\u001b[A\n",
      "Validation DataLoader 0:   3%|▎         | 2/59 [00:00<00:05, 11.36it/s]\u001b[A\n",
      "Validation DataLoader 0:   5%|▌         | 3/59 [00:00<00:06,  8.77it/s]\u001b[A\n",
      "Validation DataLoader 0:   7%|▋         | 4/59 [00:00<00:07,  7.85it/s]\u001b[A\n",
      "Validation DataLoader 0:   8%|▊         | 5/59 [00:00<00:07,  7.39it/s]\u001b[A\n",
      "Validation DataLoader 0:  10%|█         | 6/59 [00:00<00:07,  7.12it/s]\u001b[A\n",
      "Validation DataLoader 0:  12%|█▏        | 7/59 [00:01<00:07,  6.93it/s]\u001b[A\n",
      "Validation DataLoader 0:  14%|█▎        | 8/59 [00:01<00:07,  6.80it/s]\u001b[A\n",
      "Validation DataLoader 0:  15%|█▌        | 9/59 [00:01<00:07,  6.70it/s]\u001b[A\n",
      "Validation DataLoader 0:  17%|█▋        | 10/59 [00:01<00:07,  6.62it/s]\u001b[A\n",
      "Validation DataLoader 0:  19%|█▊        | 11/59 [00:01<00:07,  6.56it/s]\u001b[A\n",
      "Validation DataLoader 0:  20%|██        | 12/59 [00:01<00:07,  6.50it/s]\u001b[A\n",
      "Validation DataLoader 0:  22%|██▏       | 13/59 [00:02<00:07,  6.46it/s]\u001b[A\n",
      "Validation DataLoader 0:  24%|██▎       | 14/59 [00:02<00:07,  6.42it/s]\u001b[A\n",
      "Validation DataLoader 0:  25%|██▌       | 15/59 [00:02<00:06,  6.39it/s]\u001b[A\n",
      "Validation DataLoader 0:  27%|██▋       | 16/59 [00:02<00:06,  6.37it/s]\u001b[A\n",
      "Validation DataLoader 0:  29%|██▉       | 17/59 [00:02<00:06,  6.34it/s]\u001b[A\n",
      "Validation DataLoader 0:  31%|███       | 18/59 [00:02<00:06,  6.32it/s]\u001b[A\n",
      "Validation DataLoader 0:  32%|███▏      | 19/59 [00:03<00:06,  6.30it/s]\u001b[A\n",
      "Validation DataLoader 0:  34%|███▍      | 20/59 [00:03<00:06,  6.29it/s]\u001b[A\n",
      "Validation DataLoader 0:  36%|███▌      | 21/59 [00:03<00:06,  6.27it/s]\u001b[A\n",
      "Validation DataLoader 0:  37%|███▋      | 22/59 [00:03<00:05,  6.26it/s]\u001b[A\n",
      "Validation DataLoader 0:  39%|███▉      | 23/59 [00:03<00:05,  6.25it/s]\u001b[A\n",
      "Validation DataLoader 0:  41%|████      | 24/59 [00:03<00:05,  6.23it/s]\u001b[A\n",
      "Validation DataLoader 0:  42%|████▏     | 25/59 [00:04<00:05,  6.22it/s]\u001b[A\n",
      "Validation DataLoader 0:  44%|████▍     | 26/59 [00:04<00:05,  6.22it/s]\u001b[A\n",
      "Validation DataLoader 0:  46%|████▌     | 27/59 [00:04<00:05,  6.21it/s]\u001b[A\n",
      "Validation DataLoader 0:  47%|████▋     | 28/59 [00:04<00:05,  6.20it/s]\u001b[A\n",
      "Validation DataLoader 0:  49%|████▉     | 29/59 [00:04<00:04,  6.19it/s]\u001b[A\n",
      "Validation DataLoader 0:  51%|█████     | 30/59 [00:04<00:04,  6.18it/s]\u001b[A\n",
      "Validation DataLoader 0:  53%|█████▎    | 31/59 [00:05<00:04,  6.18it/s]\u001b[A\n",
      "Validation DataLoader 0:  54%|█████▍    | 32/59 [00:05<00:04,  6.17it/s]\u001b[A\n",
      "Validation DataLoader 0:  56%|█████▌    | 33/59 [00:05<00:04,  6.17it/s]\u001b[A\n",
      "Validation DataLoader 0:  58%|█████▊    | 34/59 [00:05<00:04,  6.16it/s]\u001b[A\n",
      "Validation DataLoader 0:  59%|█████▉    | 35/59 [00:05<00:03,  6.15it/s]\u001b[A\n",
      "Validation DataLoader 0:  61%|██████    | 36/59 [00:05<00:03,  6.15it/s]\u001b[A\n",
      "Validation DataLoader 0:  63%|██████▎   | 37/59 [00:06<00:03,  6.15it/s]\u001b[A\n",
      "Validation DataLoader 0:  64%|██████▍   | 38/59 [00:06<00:03,  6.14it/s]\u001b[A\n",
      "Validation DataLoader 0:  66%|██████▌   | 39/59 [00:06<00:03,  6.14it/s]\u001b[A\n",
      "Validation DataLoader 0:  68%|██████▊   | 40/59 [00:06<00:03,  6.13it/s]\u001b[A\n",
      "Validation DataLoader 0:  69%|██████▉   | 41/59 [00:06<00:02,  6.13it/s]\u001b[A\n",
      "Validation DataLoader 0:  71%|███████   | 42/59 [00:06<00:02,  6.13it/s]\u001b[A\n",
      "Validation DataLoader 0:  73%|███████▎  | 43/59 [00:07<00:02,  6.12it/s]\u001b[A\n",
      "Validation DataLoader 0:  75%|███████▍  | 44/59 [00:07<00:02,  6.12it/s]\u001b[A\n",
      "Validation DataLoader 0:  76%|███████▋  | 45/59 [00:07<00:02,  6.12it/s]\u001b[A\n",
      "Validation DataLoader 0:  78%|███████▊  | 46/59 [00:07<00:02,  6.11it/s]\u001b[A\n",
      "Validation DataLoader 0:  80%|███████▉  | 47/59 [00:07<00:01,  6.11it/s]\u001b[A\n",
      "Validation DataLoader 0:  81%|████████▏ | 48/59 [00:07<00:01,  6.11it/s]\u001b[A\n",
      "Validation DataLoader 0:  83%|████████▎ | 49/59 [00:08<00:01,  6.11it/s]\u001b[A\n",
      "Validation DataLoader 0:  85%|████████▍ | 50/59 [00:08<00:01,  6.10it/s]\u001b[A\n",
      "Validation DataLoader 0:  86%|████████▋ | 51/59 [00:08<00:01,  6.10it/s]\u001b[A\n",
      "Validation DataLoader 0:  88%|████████▊ | 52/59 [00:08<00:01,  6.10it/s]\u001b[A\n",
      "Validation DataLoader 0:  90%|████████▉ | 53/59 [00:08<00:00,  6.10it/s]\u001b[A\n",
      "Validation DataLoader 0:  92%|█████████▏| 54/59 [00:08<00:00,  6.09it/s]\u001b[A\n",
      "Validation DataLoader 0:  93%|█████████▎| 55/59 [00:09<00:00,  6.09it/s]\u001b[A\n",
      "Validation DataLoader 0:  95%|█████████▍| 56/59 [00:09<00:00,  6.09it/s]\u001b[A\n",
      "Validation DataLoader 0:  97%|█████████▋| 57/59 [00:09<00:00,  6.09it/s]\u001b[A\n",
      "Validation DataLoader 0:  98%|█████████▊| 58/59 [00:09<00:00,  6.09it/s]\u001b[A\n",
      "Epoch 0: 100%|██████████| 525/525 [04:58<00:00,  1.76it/s, v_num=iwxn]s]\u001b[A\n",
      "Epoch 0: 100%|██████████| 525/525 [04:58<00:00,  1.76it/s, v_num=iwxn]  \u001b[A"
     ]
    },
    {
     "name": "stderr",
     "output_type": "stream",
     "text": [
      "`Trainer.fit` stopped: `max_epochs=1` reached.\n"
     ]
    },
    {
     "name": "stdout",
     "output_type": "stream",
     "text": [
      "Epoch 0: 100%|██████████| 525/525 [05:05<00:00,  1.72it/s, v_num=iwxn]\n"
     ]
    },
    {
     "name": "stderr",
     "output_type": "stream",
     "text": [
      "tokenizing: 100%|██████████| 550/550 [00:00<00:00, 2748.40it/s]\n",
      "tokenizing: 100%|██████████| 1100/1100 [00:00<00:00, 2743.07it/s]\n",
      "LOCAL_RANK: 0 - CUDA_VISIBLE_DEVICES: [0]\n",
      "/opt/conda/lib/python3.8/site-packages/pytorch_lightning/trainer/connectors/data_connector.py:430: PossibleUserWarning: The dataloader, test_dataloader, does not have many workers which may be a bottleneck. Consider increasing the value of the `num_workers` argument` (try 8 which is the number of cpus on this machine) in the `DataLoader` init to improve performance.\n",
      "  rank_zero_warn(\n"
     ]
    },
    {
     "name": "stdout",
     "output_type": "stream",
     "text": [
      "Testing DataLoader 0: 100%|██████████| 35/35 [00:05<00:00,  6.08it/s]\n",
      "────────────────────────────────────────────────────────────────────────────────────────────────────────────────────────\n",
      "       Test metric             DataLoader 0\n",
      "────────────────────────────────────────────────────────────────────────────────────────────────────────────────────────\n",
      "      test_pearson          0.8842471837997437\n",
      "────────────────────────────────────────────────────────────────────────────────────────────────────────────────────────\n"
     ]
    },
    {
     "name": "stderr",
     "output_type": "stream",
     "text": [
      "tokenizing: 100%|██████████| 9324/9324 [00:03<00:00, 2919.77it/s]\n",
      "Using 16bit Automatic Mixed Precision (AMP)\n",
      "GPU available: True (cuda), used: True\n",
      "TPU available: False, using: 0 TPU cores\n",
      "IPU available: False, using: 0 IPUs\n",
      "HPU available: False, using: 0 HPUs\n",
      "tokenizing: 100%|██████████| 9324/9324 [00:03<00:00, 2676.48it/s]\n",
      "/opt/conda/lib/python3.8/site-packages/pytorch_lightning/callbacks/model_checkpoint.py:612: UserWarning: Checkpoint directory ./MS_230412_002_KFold/99o2iwxn/checkpoints exists and is not empty.\n",
      "  rank_zero_warn(f\"Checkpoint directory {dirpath} exists and is not empty.\")\n",
      "LOCAL_RANK: 0 - CUDA_VISIBLE_DEVICES: [0]\n",
      "\n",
      "  | Name      | Type                             | Params\n",
      "---------------------------------------------------------------\n",
      "0 | plm       | RobertaForSequenceClassification | 336 M \n",
      "1 | loss_func | L1Loss                           | 0     \n",
      "---------------------------------------------------------------\n",
      "336 M     Trainable params\n",
      "0         Non-trainable params\n",
      "336 M     Total params\n",
      "1,346.630 Total estimated model params size (MB)\n"
     ]
    },
    {
     "name": "stdout",
     "output_type": "stream",
     "text": [
      "                                                                           "
     ]
    },
    {
     "name": "stderr",
     "output_type": "stream",
     "text": [
      "/opt/conda/lib/python3.8/site-packages/pytorch_lightning/trainer/connectors/data_connector.py:430: PossibleUserWarning: The dataloader, val_dataloader, does not have many workers which may be a bottleneck. Consider increasing the value of the `num_workers` argument` (try 8 which is the number of cpus on this machine) in the `DataLoader` init to improve performance.\n",
      "  rank_zero_warn(\n",
      "/opt/conda/lib/python3.8/site-packages/pytorch_lightning/trainer/connectors/data_connector.py:430: PossibleUserWarning: The dataloader, train_dataloader, does not have many workers which may be a bottleneck. Consider increasing the value of the `num_workers` argument` (try 8 which is the number of cpus on this machine) in the `DataLoader` init to improve performance.\n",
      "  rank_zero_warn(\n"
     ]
    },
    {
     "name": "stdout",
     "output_type": "stream",
     "text": [
      "Epoch 0: 100%|██████████| 525/525 [04:48<00:00,  1.82it/s, v_num=iwxn]\n",
      "Validation: 0it [00:00, ?it/s]\u001b[A\n",
      "Validation:   0%|          | 0/59 [00:00<?, ?it/s]\u001b[A\n",
      "Validation DataLoader 0:   0%|          | 0/59 [00:00<?, ?it/s]\u001b[A\n",
      "Validation DataLoader 0:   2%|▏         | 1/59 [00:00<00:02, 26.24it/s]\u001b[A\n",
      "Validation DataLoader 0:   3%|▎         | 2/59 [00:00<00:04, 11.44it/s]\u001b[A\n",
      "Validation DataLoader 0:   5%|▌         | 3/59 [00:00<00:06,  8.79it/s]\u001b[A\n",
      "Validation DataLoader 0:   7%|▋         | 4/59 [00:00<00:06,  7.86it/s]\u001b[A\n",
      "Validation DataLoader 0:   8%|▊         | 5/59 [00:00<00:07,  7.40it/s]\u001b[A\n",
      "Validation DataLoader 0:  10%|█         | 6/59 [00:00<00:07,  7.13it/s]\u001b[A\n",
      "Validation DataLoader 0:  12%|█▏        | 7/59 [00:01<00:07,  6.93it/s]\u001b[A\n",
      "Validation DataLoader 0:  14%|█▎        | 8/59 [00:01<00:07,  6.80it/s]\u001b[A\n",
      "Validation DataLoader 0:  15%|█▌        | 9/59 [00:01<00:07,  6.70it/s]\u001b[A\n",
      "Validation DataLoader 0:  17%|█▋        | 10/59 [00:01<00:07,  6.62it/s]\u001b[A\n",
      "Validation DataLoader 0:  19%|█▊        | 11/59 [00:01<00:07,  6.56it/s]\u001b[A\n",
      "Validation DataLoader 0:  20%|██        | 12/59 [00:01<00:07,  6.50it/s]\u001b[A\n",
      "Validation DataLoader 0:  22%|██▏       | 13/59 [00:02<00:07,  6.46it/s]\u001b[A\n",
      "Validation DataLoader 0:  24%|██▎       | 14/59 [00:02<00:07,  6.43it/s]\u001b[A\n",
      "Validation DataLoader 0:  25%|██▌       | 15/59 [00:02<00:06,  6.39it/s]\u001b[A\n",
      "Validation DataLoader 0:  27%|██▋       | 16/59 [00:02<00:06,  6.37it/s]\u001b[A\n",
      "Validation DataLoader 0:  29%|██▉       | 17/59 [00:02<00:06,  6.34it/s]\u001b[A\n",
      "Validation DataLoader 0:  31%|███       | 18/59 [00:02<00:06,  6.32it/s]\u001b[A\n",
      "Validation DataLoader 0:  32%|███▏      | 19/59 [00:03<00:06,  6.31it/s]\u001b[A\n",
      "Validation DataLoader 0:  34%|███▍      | 20/59 [00:03<00:06,  6.29it/s]\u001b[A\n",
      "Validation DataLoader 0:  36%|███▌      | 21/59 [00:03<00:06,  6.27it/s]\u001b[A\n",
      "Validation DataLoader 0:  37%|███▋      | 22/59 [00:03<00:05,  6.26it/s]\u001b[A\n",
      "Validation DataLoader 0:  39%|███▉      | 23/59 [00:03<00:05,  6.25it/s]\u001b[A\n",
      "Validation DataLoader 0:  41%|████      | 24/59 [00:03<00:05,  6.24it/s]\u001b[A\n",
      "Validation DataLoader 0:  42%|████▏     | 25/59 [00:04<00:05,  6.23it/s]\u001b[A\n",
      "Validation DataLoader 0:  44%|████▍     | 26/59 [00:04<00:05,  6.22it/s]\u001b[A\n",
      "Validation DataLoader 0:  46%|████▌     | 27/59 [00:04<00:05,  6.21it/s]\u001b[A\n",
      "Validation DataLoader 0:  47%|████▋     | 28/59 [00:04<00:05,  6.20it/s]\u001b[A\n",
      "Validation DataLoader 0:  49%|████▉     | 29/59 [00:04<00:04,  6.19it/s]\u001b[A\n",
      "Validation DataLoader 0:  51%|█████     | 30/59 [00:04<00:04,  6.18it/s]\u001b[A\n",
      "Validation DataLoader 0:  53%|█████▎    | 31/59 [00:05<00:04,  6.18it/s]\u001b[A\n",
      "Validation DataLoader 0:  54%|█████▍    | 32/59 [00:05<00:04,  6.17it/s]\u001b[A\n",
      "Validation DataLoader 0:  56%|█████▌    | 33/59 [00:05<00:04,  6.17it/s]\u001b[A\n",
      "Validation DataLoader 0:  58%|█████▊    | 34/59 [00:05<00:04,  6.16it/s]\u001b[A\n",
      "Validation DataLoader 0:  59%|█████▉    | 35/59 [00:05<00:03,  6.16it/s]\u001b[A\n",
      "Validation DataLoader 0:  61%|██████    | 36/59 [00:05<00:03,  6.15it/s]\u001b[A\n",
      "Validation DataLoader 0:  63%|██████▎   | 37/59 [00:06<00:03,  6.15it/s]\u001b[A\n",
      "Validation DataLoader 0:  64%|██████▍   | 38/59 [00:06<00:03,  6.14it/s]\u001b[A\n",
      "Validation DataLoader 0:  66%|██████▌   | 39/59 [00:06<00:03,  6.14it/s]\u001b[A\n",
      "Validation DataLoader 0:  68%|██████▊   | 40/59 [00:06<00:03,  6.13it/s]\u001b[A\n",
      "Validation DataLoader 0:  69%|██████▉   | 41/59 [00:06<00:02,  6.13it/s]\u001b[A\n",
      "Validation DataLoader 0:  71%|███████   | 42/59 [00:06<00:02,  6.13it/s]\u001b[A\n",
      "Validation DataLoader 0:  73%|███████▎  | 43/59 [00:07<00:02,  6.12it/s]\u001b[A\n",
      "Validation DataLoader 0:  75%|███████▍  | 44/59 [00:07<00:02,  6.12it/s]\u001b[A\n",
      "Validation DataLoader 0:  76%|███████▋  | 45/59 [00:07<00:02,  6.12it/s]\u001b[A\n",
      "Validation DataLoader 0:  78%|███████▊  | 46/59 [00:07<00:02,  6.11it/s]\u001b[A\n",
      "Validation DataLoader 0:  80%|███████▉  | 47/59 [00:07<00:01,  6.11it/s]\u001b[A\n",
      "Validation DataLoader 0:  81%|████████▏ | 48/59 [00:07<00:01,  6.11it/s]\u001b[A\n",
      "Validation DataLoader 0:  83%|████████▎ | 49/59 [00:08<00:01,  6.11it/s]\u001b[A\n",
      "Validation DataLoader 0:  85%|████████▍ | 50/59 [00:08<00:01,  6.10it/s]\u001b[A\n",
      "Validation DataLoader 0:  86%|████████▋ | 51/59 [00:08<00:01,  6.10it/s]\u001b[A\n",
      "Validation DataLoader 0:  88%|████████▊ | 52/59 [00:08<00:01,  6.10it/s]\u001b[A\n",
      "Validation DataLoader 0:  90%|████████▉ | 53/59 [00:08<00:00,  6.10it/s]\u001b[A\n",
      "Validation DataLoader 0:  92%|█████████▏| 54/59 [00:08<00:00,  6.10it/s]\u001b[A\n",
      "Validation DataLoader 0:  93%|█████████▎| 55/59 [00:09<00:00,  6.09it/s]\u001b[A\n",
      "Validation DataLoader 0:  95%|█████████▍| 56/59 [00:09<00:00,  6.09it/s]\u001b[A\n",
      "Validation DataLoader 0:  97%|█████████▋| 57/59 [00:09<00:00,  6.09it/s]\u001b[A\n",
      "Validation DataLoader 0:  98%|█████████▊| 58/59 [00:09<00:00,  6.09it/s]\u001b[A\n",
      "Epoch 0: 100%|██████████| 525/525 [04:58<00:00,  1.76it/s, v_num=iwxn]s]\u001b[A\n",
      "Epoch 0: 100%|██████████| 525/525 [04:58<00:00,  1.76it/s, v_num=iwxn]  \u001b[A"
     ]
    },
    {
     "name": "stderr",
     "output_type": "stream",
     "text": [
      "`Trainer.fit` stopped: `max_epochs=1` reached.\n"
     ]
    },
    {
     "name": "stdout",
     "output_type": "stream",
     "text": [
      "Epoch 0: 100%|██████████| 525/525 [05:06<00:00,  1.71it/s, v_num=iwxn]\n"
     ]
    },
    {
     "name": "stderr",
     "output_type": "stream",
     "text": [
      "tokenizing: 100%|██████████| 550/550 [00:00<00:00, 2629.29it/s]\n",
      "tokenizing: 100%|██████████| 1100/1100 [00:00<00:00, 2600.62it/s]\n",
      "LOCAL_RANK: 0 - CUDA_VISIBLE_DEVICES: [0]\n",
      "/opt/conda/lib/python3.8/site-packages/pytorch_lightning/trainer/connectors/data_connector.py:430: PossibleUserWarning: The dataloader, test_dataloader, does not have many workers which may be a bottleneck. Consider increasing the value of the `num_workers` argument` (try 8 which is the number of cpus on this machine) in the `DataLoader` init to improve performance.\n",
      "  rank_zero_warn(\n"
     ]
    },
    {
     "name": "stdout",
     "output_type": "stream",
     "text": [
      "Testing DataLoader 0: 100%|██████████| 35/35 [00:05<00:00,  6.08it/s]\n",
      "────────────────────────────────────────────────────────────────────────────────────────────────────────────────────────\n",
      "       Test metric             DataLoader 0\n",
      "────────────────────────────────────────────────────────────────────────────────────────────────────────────────────────\n",
      "      test_pearson          0.9083380699157715\n",
      "────────────────────────────────────────────────────────────────────────────────────────────────────────────────────────\n"
     ]
    },
    {
     "name": "stderr",
     "output_type": "stream",
     "text": [
      "tokenizing: 100%|██████████| 9324/9324 [00:03<00:00, 2913.74it/s]\n",
      "Using 16bit Automatic Mixed Precision (AMP)\n",
      "GPU available: True (cuda), used: True\n",
      "TPU available: False, using: 0 TPU cores\n",
      "IPU available: False, using: 0 IPUs\n",
      "HPU available: False, using: 0 HPUs\n",
      "tokenizing: 100%|██████████| 9324/9324 [00:03<00:00, 2674.22it/s]\n",
      "/opt/conda/lib/python3.8/site-packages/pytorch_lightning/callbacks/model_checkpoint.py:612: UserWarning: Checkpoint directory ./MS_230412_002_KFold/99o2iwxn/checkpoints exists and is not empty.\n",
      "  rank_zero_warn(f\"Checkpoint directory {dirpath} exists and is not empty.\")\n",
      "LOCAL_RANK: 0 - CUDA_VISIBLE_DEVICES: [0]\n",
      "\n",
      "  | Name      | Type                             | Params\n",
      "---------------------------------------------------------------\n",
      "0 | plm       | RobertaForSequenceClassification | 336 M \n",
      "1 | loss_func | L1Loss                           | 0     \n",
      "---------------------------------------------------------------\n",
      "336 M     Trainable params\n",
      "0         Non-trainable params\n",
      "336 M     Total params\n",
      "1,346.630 Total estimated model params size (MB)\n"
     ]
    },
    {
     "name": "stdout",
     "output_type": "stream",
     "text": [
      "Sanity Checking DataLoader 0:  50%|█████     | 1/2 [00:00<00:00, 20.91it/s]"
     ]
    },
    {
     "name": "stderr",
     "output_type": "stream",
     "text": [
      "/opt/conda/lib/python3.8/site-packages/pytorch_lightning/trainer/connectors/data_connector.py:430: PossibleUserWarning: The dataloader, val_dataloader, does not have many workers which may be a bottleneck. Consider increasing the value of the `num_workers` argument` (try 8 which is the number of cpus on this machine) in the `DataLoader` init to improve performance.\n",
      "  rank_zero_warn(\n"
     ]
    },
    {
     "name": "stdout",
     "output_type": "stream",
     "text": [
      "                                                                           "
     ]
    },
    {
     "name": "stderr",
     "output_type": "stream",
     "text": [
      "/opt/conda/lib/python3.8/site-packages/pytorch_lightning/trainer/connectors/data_connector.py:430: PossibleUserWarning: The dataloader, train_dataloader, does not have many workers which may be a bottleneck. Consider increasing the value of the `num_workers` argument` (try 8 which is the number of cpus on this machine) in the `DataLoader` init to improve performance.\n",
      "  rank_zero_warn(\n"
     ]
    },
    {
     "name": "stdout",
     "output_type": "stream",
     "text": [
      "Epoch 0: 100%|██████████| 525/525 [04:48<00:00,  1.82it/s, v_num=iwxn]\n",
      "Validation: 0it [00:00, ?it/s]\u001b[A\n",
      "Validation:   0%|          | 0/59 [00:00<?, ?it/s]\u001b[A\n",
      "Validation DataLoader 0:   0%|          | 0/59 [00:00<?, ?it/s]\u001b[A\n",
      "Validation DataLoader 0:   2%|▏         | 1/59 [00:00<00:02, 25.97it/s]\u001b[A\n",
      "Validation DataLoader 0:   3%|▎         | 2/59 [00:00<00:05, 11.37it/s]\u001b[A\n",
      "Validation DataLoader 0:   5%|▌         | 3/59 [00:00<00:06,  8.76it/s]\u001b[A\n",
      "Validation DataLoader 0:   7%|▋         | 4/59 [00:00<00:07,  7.85it/s]\u001b[A\n",
      "Validation DataLoader 0:   8%|▊         | 5/59 [00:00<00:07,  7.39it/s]\u001b[A\n",
      "Validation DataLoader 0:  10%|█         | 6/59 [00:00<00:07,  7.12it/s]\u001b[A\n",
      "Validation DataLoader 0:  12%|█▏        | 7/59 [00:01<00:07,  6.92it/s]\u001b[A\n",
      "Validation DataLoader 0:  14%|█▎        | 8/59 [00:01<00:07,  6.79it/s]\u001b[A\n",
      "Validation DataLoader 0:  15%|█▌        | 9/59 [00:01<00:07,  6.69it/s]\u001b[A\n",
      "Validation DataLoader 0:  17%|█▋        | 10/59 [00:01<00:07,  6.61it/s]\u001b[A\n",
      "Validation DataLoader 0:  19%|█▊        | 11/59 [00:01<00:07,  6.55it/s]\u001b[A\n",
      "Validation DataLoader 0:  20%|██        | 12/59 [00:01<00:07,  6.50it/s]\u001b[A\n",
      "Validation DataLoader 0:  22%|██▏       | 13/59 [00:02<00:07,  6.46it/s]\u001b[A\n",
      "Validation DataLoader 0:  24%|██▎       | 14/59 [00:02<00:07,  6.42it/s]\u001b[A\n",
      "Validation DataLoader 0:  25%|██▌       | 15/59 [00:02<00:06,  6.39it/s]\u001b[A\n",
      "Validation DataLoader 0:  27%|██▋       | 16/59 [00:02<00:06,  6.36it/s]\u001b[A\n",
      "Validation DataLoader 0:  29%|██▉       | 17/59 [00:02<00:06,  6.34it/s]\u001b[A\n",
      "Validation DataLoader 0:  31%|███       | 18/59 [00:02<00:06,  6.32it/s]\u001b[A\n",
      "Validation DataLoader 0:  32%|███▏      | 19/59 [00:03<00:06,  6.30it/s]\u001b[A\n",
      "Validation DataLoader 0:  34%|███▍      | 20/59 [00:03<00:06,  6.28it/s]\u001b[A\n",
      "Validation DataLoader 0:  36%|███▌      | 21/59 [00:03<00:06,  6.27it/s]\u001b[A\n",
      "Validation DataLoader 0:  37%|███▋      | 22/59 [00:03<00:05,  6.25it/s]\u001b[A\n",
      "Validation DataLoader 0:  39%|███▉      | 23/59 [00:03<00:05,  6.24it/s]\u001b[A\n",
      "Validation DataLoader 0:  41%|████      | 24/59 [00:03<00:05,  6.23it/s]\u001b[A\n",
      "Validation DataLoader 0:  42%|████▏     | 25/59 [00:04<00:05,  6.22it/s]\u001b[A\n",
      "Validation DataLoader 0:  44%|████▍     | 26/59 [00:04<00:05,  6.21it/s]\u001b[A\n",
      "Validation DataLoader 0:  46%|████▌     | 27/59 [00:04<00:05,  6.20it/s]\u001b[A\n",
      "Validation DataLoader 0:  47%|████▋     | 28/59 [00:04<00:05,  6.19it/s]\u001b[A\n",
      "Validation DataLoader 0:  49%|████▉     | 29/59 [00:04<00:04,  6.19it/s]\u001b[A\n",
      "Validation DataLoader 0:  51%|█████     | 30/59 [00:04<00:04,  6.18it/s]\u001b[A\n",
      "Validation DataLoader 0:  53%|█████▎    | 31/59 [00:05<00:04,  6.17it/s]\u001b[A\n",
      "Validation DataLoader 0:  54%|█████▍    | 32/59 [00:05<00:04,  6.17it/s]\u001b[A\n",
      "Validation DataLoader 0:  56%|█████▌    | 33/59 [00:05<00:04,  6.16it/s]\u001b[A\n",
      "Validation DataLoader 0:  58%|█████▊    | 34/59 [00:05<00:04,  6.16it/s]\u001b[A\n",
      "Validation DataLoader 0:  59%|█████▉    | 35/59 [00:05<00:03,  6.15it/s]\u001b[A\n",
      "Validation DataLoader 0:  61%|██████    | 36/59 [00:05<00:03,  6.15it/s]\u001b[A\n",
      "Validation DataLoader 0:  63%|██████▎   | 37/59 [00:06<00:03,  6.14it/s]\u001b[A\n",
      "Validation DataLoader 0:  64%|██████▍   | 38/59 [00:06<00:03,  6.14it/s]\u001b[A\n",
      "Validation DataLoader 0:  66%|██████▌   | 39/59 [00:06<00:03,  6.13it/s]\u001b[A\n",
      "Validation DataLoader 0:  68%|██████▊   | 40/59 [00:06<00:03,  6.13it/s]\u001b[A\n",
      "Validation DataLoader 0:  69%|██████▉   | 41/59 [00:06<00:02,  6.13it/s]\u001b[A\n",
      "Validation DataLoader 0:  71%|███████   | 42/59 [00:06<00:02,  6.12it/s]\u001b[A\n",
      "Validation DataLoader 0:  73%|███████▎  | 43/59 [00:07<00:02,  6.12it/s]\u001b[A\n",
      "Validation DataLoader 0:  75%|███████▍  | 44/59 [00:07<00:02,  6.12it/s]\u001b[A\n",
      "Validation DataLoader 0:  76%|███████▋  | 45/59 [00:07<00:02,  6.11it/s]\u001b[A\n",
      "Validation DataLoader 0:  78%|███████▊  | 46/59 [00:07<00:02,  6.11it/s]\u001b[A\n",
      "Validation DataLoader 0:  80%|███████▉  | 47/59 [00:07<00:01,  6.11it/s]\u001b[A\n",
      "Validation DataLoader 0:  81%|████████▏ | 48/59 [00:07<00:01,  6.11it/s]\u001b[A\n",
      "Validation DataLoader 0:  83%|████████▎ | 49/59 [00:08<00:01,  6.10it/s]\u001b[A\n",
      "Validation DataLoader 0:  85%|████████▍ | 50/59 [00:08<00:01,  6.10it/s]\u001b[A\n",
      "Validation DataLoader 0:  86%|████████▋ | 51/59 [00:08<00:01,  6.10it/s]\u001b[A\n",
      "Validation DataLoader 0:  88%|████████▊ | 52/59 [00:08<00:01,  6.10it/s]\u001b[A\n",
      "Validation DataLoader 0:  90%|████████▉ | 53/59 [00:08<00:00,  6.09it/s]\u001b[A\n",
      "Validation DataLoader 0:  92%|█████████▏| 54/59 [00:08<00:00,  6.09it/s]\u001b[A\n",
      "Validation DataLoader 0:  93%|█████████▎| 55/59 [00:09<00:00,  6.09it/s]\u001b[A\n",
      "Validation DataLoader 0:  95%|█████████▍| 56/59 [00:09<00:00,  6.09it/s]\u001b[A\n",
      "Validation DataLoader 0:  97%|█████████▋| 57/59 [00:09<00:00,  6.09it/s]\u001b[A\n",
      "Validation DataLoader 0:  98%|█████████▊| 58/59 [00:09<00:00,  6.08it/s]\u001b[A\n",
      "Epoch 0: 100%|██████████| 525/525 [04:58<00:00,  1.76it/s, v_num=iwxn]s]\u001b[A\n",
      "Epoch 0: 100%|██████████| 525/525 [04:58<00:00,  1.76it/s, v_num=iwxn]  \u001b[A"
     ]
    },
    {
     "name": "stderr",
     "output_type": "stream",
     "text": [
      "`Trainer.fit` stopped: `max_epochs=1` reached.\n"
     ]
    },
    {
     "name": "stdout",
     "output_type": "stream",
     "text": [
      "Epoch 0: 100%|██████████| 525/525 [05:05<00:00,  1.72it/s, v_num=iwxn]\n"
     ]
    },
    {
     "name": "stderr",
     "output_type": "stream",
     "text": [
      "tokenizing: 100%|██████████| 550/550 [00:00<00:00, 2723.89it/s]\n",
      "tokenizing: 100%|██████████| 1100/1100 [00:00<00:00, 2771.72it/s]\n",
      "LOCAL_RANK: 0 - CUDA_VISIBLE_DEVICES: [0]\n",
      "/opt/conda/lib/python3.8/site-packages/pytorch_lightning/trainer/connectors/data_connector.py:430: PossibleUserWarning: The dataloader, test_dataloader, does not have many workers which may be a bottleneck. Consider increasing the value of the `num_workers` argument` (try 8 which is the number of cpus on this machine) in the `DataLoader` init to improve performance.\n",
      "  rank_zero_warn(\n"
     ]
    },
    {
     "name": "stdout",
     "output_type": "stream",
     "text": [
      "Testing DataLoader 0: 100%|██████████| 35/35 [00:05<00:00,  6.08it/s]\n",
      "────────────────────────────────────────────────────────────────────────────────────────────────────────────────────────\n",
      "       Test metric             DataLoader 0\n",
      "────────────────────────────────────────────────────────────────────────────────────────────────────────────────────────\n",
      "      test_pearson          0.9087641835212708\n",
      "────────────────────────────────────────────────────────────────────────────────────────────────────────────────────────\n"
     ]
    },
    {
     "name": "stderr",
     "output_type": "stream",
     "text": [
      "tokenizing: 100%|██████████| 9324/9324 [00:03<00:00, 2530.32it/s]\n",
      "Using 16bit Automatic Mixed Precision (AMP)\n",
      "GPU available: True (cuda), used: True\n",
      "TPU available: False, using: 0 TPU cores\n",
      "IPU available: False, using: 0 IPUs\n",
      "HPU available: False, using: 0 HPUs\n",
      "tokenizing: 100%|██████████| 9324/9324 [00:03<00:00, 2573.51it/s]\n",
      "/opt/conda/lib/python3.8/site-packages/pytorch_lightning/callbacks/model_checkpoint.py:612: UserWarning: Checkpoint directory ./MS_230412_002_KFold/99o2iwxn/checkpoints exists and is not empty.\n",
      "  rank_zero_warn(f\"Checkpoint directory {dirpath} exists and is not empty.\")\n",
      "LOCAL_RANK: 0 - CUDA_VISIBLE_DEVICES: [0]\n",
      "\n",
      "  | Name      | Type                             | Params\n",
      "---------------------------------------------------------------\n",
      "0 | plm       | RobertaForSequenceClassification | 336 M \n",
      "1 | loss_func | L1Loss                           | 0     \n",
      "---------------------------------------------------------------\n",
      "336 M     Trainable params\n",
      "0         Non-trainable params\n",
      "336 M     Total params\n",
      "1,346.630 Total estimated model params size (MB)\n"
     ]
    },
    {
     "name": "stdout",
     "output_type": "stream",
     "text": [
      "Sanity Checking DataLoader 0: 100%|██████████| 2/2 [00:00<00:00, 11.62it/s]"
     ]
    },
    {
     "name": "stderr",
     "output_type": "stream",
     "text": [
      "/opt/conda/lib/python3.8/site-packages/pytorch_lightning/trainer/connectors/data_connector.py:430: PossibleUserWarning: The dataloader, val_dataloader, does not have many workers which may be a bottleneck. Consider increasing the value of the `num_workers` argument` (try 8 which is the number of cpus on this machine) in the `DataLoader` init to improve performance.\n",
      "  rank_zero_warn(\n"
     ]
    },
    {
     "name": "stdout",
     "output_type": "stream",
     "text": [
      "                                                                           "
     ]
    },
    {
     "name": "stderr",
     "output_type": "stream",
     "text": [
      "/opt/conda/lib/python3.8/site-packages/pytorch_lightning/trainer/connectors/data_connector.py:430: PossibleUserWarning: The dataloader, train_dataloader, does not have many workers which may be a bottleneck. Consider increasing the value of the `num_workers` argument` (try 8 which is the number of cpus on this machine) in the `DataLoader` init to improve performance.\n",
      "  rank_zero_warn(\n"
     ]
    },
    {
     "name": "stdout",
     "output_type": "stream",
     "text": [
      "Epoch 0: 100%|██████████| 525/525 [04:49<00:00,  1.81it/s, v_num=iwxn]\n",
      "Validation: 0it [00:00, ?it/s]\u001b[A\n",
      "Validation:   0%|          | 0/59 [00:00<?, ?it/s]\u001b[A\n",
      "Validation DataLoader 0:   0%|          | 0/59 [00:00<?, ?it/s]\u001b[A\n",
      "Validation DataLoader 0:   2%|▏         | 1/59 [00:00<00:02, 25.36it/s]\u001b[A\n",
      "Validation DataLoader 0:   3%|▎         | 2/59 [00:00<00:04, 11.44it/s]\u001b[A\n",
      "Validation DataLoader 0:   5%|▌         | 3/59 [00:00<00:06,  8.78it/s]\u001b[A\n",
      "Validation DataLoader 0:   7%|▋         | 4/59 [00:00<00:06,  7.87it/s]\u001b[A\n",
      "Validation DataLoader 0:   8%|▊         | 5/59 [00:00<00:07,  7.41it/s]\u001b[A\n",
      "Validation DataLoader 0:  10%|█         | 6/59 [00:00<00:07,  7.12it/s]\u001b[A\n",
      "Validation DataLoader 0:  12%|█▏        | 7/59 [00:01<00:07,  6.94it/s]\u001b[A\n",
      "Validation DataLoader 0:  14%|█▎        | 8/59 [00:01<00:07,  6.80it/s]\u001b[A\n",
      "Validation DataLoader 0:  15%|█▌        | 9/59 [00:01<00:07,  6.70it/s]\u001b[A\n",
      "Validation DataLoader 0:  17%|█▋        | 10/59 [00:01<00:07,  6.62it/s]\u001b[A\n",
      "Validation DataLoader 0:  19%|█▊        | 11/59 [00:01<00:07,  6.56it/s]\u001b[A\n",
      "Validation DataLoader 0:  20%|██        | 12/59 [00:01<00:07,  6.51it/s]\u001b[A\n",
      "Validation DataLoader 0:  22%|██▏       | 13/59 [00:02<00:07,  6.46it/s]\u001b[A\n",
      "Validation DataLoader 0:  24%|██▎       | 14/59 [00:02<00:07,  6.43it/s]\u001b[A\n",
      "Validation DataLoader 0:  25%|██▌       | 15/59 [00:02<00:06,  6.40it/s]\u001b[A\n",
      "Validation DataLoader 0:  27%|██▋       | 16/59 [00:02<00:06,  6.37it/s]\u001b[A\n",
      "Validation DataLoader 0:  29%|██▉       | 17/59 [00:02<00:06,  6.34it/s]\u001b[A\n",
      "Validation DataLoader 0:  31%|███       | 18/59 [00:02<00:06,  6.32it/s]\u001b[A\n",
      "Validation DataLoader 0:  32%|███▏      | 19/59 [00:03<00:06,  6.30it/s]\u001b[A\n",
      "Validation DataLoader 0:  34%|███▍      | 20/59 [00:03<00:06,  6.29it/s]\u001b[A\n",
      "Validation DataLoader 0:  36%|███▌      | 21/59 [00:03<00:06,  6.27it/s]\u001b[A\n",
      "Validation DataLoader 0:  37%|███▋      | 22/59 [00:03<00:05,  6.26it/s]\u001b[A\n",
      "Validation DataLoader 0:  39%|███▉      | 23/59 [00:03<00:05,  6.25it/s]\u001b[A\n",
      "Validation DataLoader 0:  41%|████      | 24/59 [00:03<00:05,  6.24it/s]\u001b[A\n",
      "Validation DataLoader 0:  42%|████▏     | 25/59 [00:04<00:05,  6.23it/s]\u001b[A\n",
      "Validation DataLoader 0:  44%|████▍     | 26/59 [00:04<00:05,  6.22it/s]\u001b[A\n",
      "Validation DataLoader 0:  46%|████▌     | 27/59 [00:04<00:05,  6.21it/s]\u001b[A\n",
      "Validation DataLoader 0:  47%|████▋     | 28/59 [00:04<00:05,  6.20it/s]\u001b[A\n",
      "Validation DataLoader 0:  49%|████▉     | 29/59 [00:04<00:04,  6.19it/s]\u001b[A\n",
      "Validation DataLoader 0:  51%|█████     | 30/59 [00:04<00:04,  6.18it/s]\u001b[A\n",
      "Validation DataLoader 0:  53%|█████▎    | 31/59 [00:05<00:04,  6.18it/s]\u001b[A\n",
      "Validation DataLoader 0:  54%|█████▍    | 32/59 [00:05<00:04,  6.17it/s]\u001b[A\n",
      "Validation DataLoader 0:  56%|█████▌    | 33/59 [00:05<00:04,  6.17it/s]\u001b[A\n",
      "Validation DataLoader 0:  58%|█████▊    | 34/59 [00:05<00:04,  6.16it/s]\u001b[A\n",
      "Validation DataLoader 0:  59%|█████▉    | 35/59 [00:05<00:03,  6.16it/s]\u001b[A\n",
      "Validation DataLoader 0:  61%|██████    | 36/59 [00:05<00:03,  6.15it/s]\u001b[A\n",
      "Validation DataLoader 0:  63%|██████▎   | 37/59 [00:06<00:03,  6.15it/s]\u001b[A\n",
      "Validation DataLoader 0:  64%|██████▍   | 38/59 [00:06<00:03,  6.14it/s]\u001b[A\n",
      "Validation DataLoader 0:  66%|██████▌   | 39/59 [00:06<00:03,  6.14it/s]\u001b[A\n",
      "Validation DataLoader 0:  68%|██████▊   | 40/59 [00:06<00:03,  6.13it/s]\u001b[A\n",
      "Validation DataLoader 0:  69%|██████▉   | 41/59 [00:06<00:02,  6.13it/s]\u001b[A\n",
      "Validation DataLoader 0:  71%|███████   | 42/59 [00:06<00:02,  6.13it/s]\u001b[A\n",
      "Validation DataLoader 0:  73%|███████▎  | 43/59 [00:07<00:02,  6.12it/s]\u001b[A\n",
      "Validation DataLoader 0:  75%|███████▍  | 44/59 [00:07<00:02,  6.12it/s]\u001b[A\n",
      "Validation DataLoader 0:  76%|███████▋  | 45/59 [00:07<00:02,  6.12it/s]\u001b[A\n",
      "Validation DataLoader 0:  78%|███████▊  | 46/59 [00:07<00:02,  6.11it/s]\u001b[A\n",
      "Validation DataLoader 0:  80%|███████▉  | 47/59 [00:07<00:01,  6.11it/s]\u001b[A\n",
      "Validation DataLoader 0:  81%|████████▏ | 48/59 [00:07<00:01,  6.11it/s]\u001b[A\n",
      "Validation DataLoader 0:  83%|████████▎ | 49/59 [00:08<00:01,  6.11it/s]\u001b[A\n",
      "Validation DataLoader 0:  85%|████████▍ | 50/59 [00:08<00:01,  6.10it/s]\u001b[A\n",
      "Validation DataLoader 0:  86%|████████▋ | 51/59 [00:08<00:01,  6.10it/s]\u001b[A\n",
      "Validation DataLoader 0:  88%|████████▊ | 52/59 [00:08<00:01,  6.10it/s]\u001b[A\n",
      "Validation DataLoader 0:  90%|████████▉ | 53/59 [00:08<00:00,  6.10it/s]\u001b[A\n",
      "Validation DataLoader 0:  92%|█████████▏| 54/59 [00:08<00:00,  6.10it/s]\u001b[A\n",
      "Validation DataLoader 0:  93%|█████████▎| 55/59 [00:09<00:00,  6.09it/s]\u001b[A\n",
      "Validation DataLoader 0:  95%|█████████▍| 56/59 [00:09<00:00,  6.09it/s]\u001b[A\n",
      "Validation DataLoader 0:  97%|█████████▋| 57/59 [00:09<00:00,  6.09it/s]\u001b[A\n",
      "Validation DataLoader 0:  98%|█████████▊| 58/59 [00:09<00:00,  6.09it/s]\u001b[A\n",
      "Epoch 0: 100%|██████████| 525/525 [04:59<00:00,  1.76it/s, v_num=iwxn]s]\u001b[A\n",
      "Epoch 0: 100%|██████████| 525/525 [04:59<00:00,  1.76it/s, v_num=iwxn]  \u001b[A"
     ]
    },
    {
     "name": "stderr",
     "output_type": "stream",
     "text": [
      "`Trainer.fit` stopped: `max_epochs=1` reached.\n"
     ]
    },
    {
     "name": "stdout",
     "output_type": "stream",
     "text": [
      "Epoch 0: 100%|██████████| 525/525 [05:07<00:00,  1.71it/s, v_num=iwxn]\n"
     ]
    },
    {
     "name": "stderr",
     "output_type": "stream",
     "text": [
      "tokenizing: 100%|██████████| 550/550 [00:00<00:00, 2536.76it/s]\n",
      "tokenizing: 100%|██████████| 1100/1100 [00:00<00:00, 2553.99it/s]\n",
      "LOCAL_RANK: 0 - CUDA_VISIBLE_DEVICES: [0]\n",
      "/opt/conda/lib/python3.8/site-packages/pytorch_lightning/trainer/connectors/data_connector.py:430: PossibleUserWarning: The dataloader, test_dataloader, does not have many workers which may be a bottleneck. Consider increasing the value of the `num_workers` argument` (try 8 which is the number of cpus on this machine) in the `DataLoader` init to improve performance.\n",
      "  rank_zero_warn(\n"
     ]
    },
    {
     "name": "stdout",
     "output_type": "stream",
     "text": [
      "Testing DataLoader 0: 100%|██████████| 35/35 [00:05<00:00,  6.08it/s]\n",
      "────────────────────────────────────────────────────────────────────────────────────────────────────────────────────────\n",
      "       Test metric             DataLoader 0\n",
      "────────────────────────────────────────────────────────────────────────────────────────────────────────────────────────\n",
      "      test_pearson           0.908053994178772\n",
      "────────────────────────────────────────────────────────────────────────────────────────────────────────────────────────\n"
     ]
    },
    {
     "name": "stderr",
     "output_type": "stream",
     "text": [
      "tokenizing: 100%|██████████| 9324/9324 [00:03<00:00, 2642.27it/s]\n",
      "Using 16bit Automatic Mixed Precision (AMP)\n",
      "GPU available: True (cuda), used: True\n",
      "TPU available: False, using: 0 TPU cores\n",
      "IPU available: False, using: 0 IPUs\n",
      "HPU available: False, using: 0 HPUs\n",
      "tokenizing: 100%|██████████| 9324/9324 [00:03<00:00, 2588.79it/s]\n",
      "/opt/conda/lib/python3.8/site-packages/pytorch_lightning/callbacks/model_checkpoint.py:612: UserWarning: Checkpoint directory ./MS_230412_002_KFold/99o2iwxn/checkpoints exists and is not empty.\n",
      "  rank_zero_warn(f\"Checkpoint directory {dirpath} exists and is not empty.\")\n",
      "LOCAL_RANK: 0 - CUDA_VISIBLE_DEVICES: [0]\n",
      "\n",
      "  | Name      | Type                             | Params\n",
      "---------------------------------------------------------------\n",
      "0 | plm       | RobertaForSequenceClassification | 336 M \n",
      "1 | loss_func | L1Loss                           | 0     \n",
      "---------------------------------------------------------------\n",
      "336 M     Trainable params\n",
      "0         Non-trainable params\n",
      "336 M     Total params\n",
      "1,346.630 Total estimated model params size (MB)\n"
     ]
    },
    {
     "name": "stdout",
     "output_type": "stream",
     "text": [
      "Sanity Checking DataLoader 0:  50%|█████     | 1/2 [00:00<00:00, 23.36it/s]"
     ]
    },
    {
     "name": "stderr",
     "output_type": "stream",
     "text": [
      "/opt/conda/lib/python3.8/site-packages/pytorch_lightning/trainer/connectors/data_connector.py:430: PossibleUserWarning: The dataloader, val_dataloader, does not have many workers which may be a bottleneck. Consider increasing the value of the `num_workers` argument` (try 8 which is the number of cpus on this machine) in the `DataLoader` init to improve performance.\n",
      "  rank_zero_warn(\n"
     ]
    },
    {
     "name": "stdout",
     "output_type": "stream",
     "text": [
      "                                                                           "
     ]
    },
    {
     "name": "stderr",
     "output_type": "stream",
     "text": [
      "/opt/conda/lib/python3.8/site-packages/pytorch_lightning/trainer/connectors/data_connector.py:430: PossibleUserWarning: The dataloader, train_dataloader, does not have many workers which may be a bottleneck. Consider increasing the value of the `num_workers` argument` (try 8 which is the number of cpus on this machine) in the `DataLoader` init to improve performance.\n",
      "  rank_zero_warn(\n"
     ]
    },
    {
     "name": "stdout",
     "output_type": "stream",
     "text": [
      "Epoch 0: 100%|██████████| 525/525 [04:49<00:00,  1.82it/s, v_num=iwxn]\n",
      "Validation: 0it [00:00, ?it/s]\u001b[A\n",
      "Validation:   0%|          | 0/59 [00:00<?, ?it/s]\u001b[A\n",
      "Validation DataLoader 0:   0%|          | 0/59 [00:00<?, ?it/s]\u001b[A\n",
      "Validation DataLoader 0:   2%|▏         | 1/59 [00:00<00:02, 24.07it/s]\u001b[A\n",
      "Validation DataLoader 0:   3%|▎         | 2/59 [00:00<00:05, 11.28it/s]\u001b[A\n",
      "Validation DataLoader 0:   5%|▌         | 3/59 [00:00<00:06,  8.71it/s]\u001b[A\n",
      "Validation DataLoader 0:   7%|▋         | 4/59 [00:00<00:07,  7.81it/s]\u001b[A\n",
      "Validation DataLoader 0:   8%|▊         | 5/59 [00:00<00:07,  7.37it/s]\u001b[A\n",
      "Validation DataLoader 0:  10%|█         | 6/59 [00:00<00:07,  7.10it/s]\u001b[A\n",
      "Validation DataLoader 0:  12%|█▏        | 7/59 [00:01<00:07,  6.91it/s]\u001b[A\n",
      "Validation DataLoader 0:  14%|█▎        | 8/59 [00:01<00:07,  6.79it/s]\u001b[A\n",
      "Validation DataLoader 0:  15%|█▌        | 9/59 [00:01<00:07,  6.68it/s]\u001b[A\n",
      "Validation DataLoader 0:  17%|█▋        | 10/59 [00:01<00:07,  6.61it/s]\u001b[A\n",
      "Validation DataLoader 0:  19%|█▊        | 11/59 [00:01<00:07,  6.55it/s]\u001b[A\n",
      "Validation DataLoader 0:  20%|██        | 12/59 [00:01<00:07,  6.49it/s]\u001b[A\n",
      "Validation DataLoader 0:  22%|██▏       | 13/59 [00:02<00:07,  6.45it/s]\u001b[A\n",
      "Validation DataLoader 0:  24%|██▎       | 14/59 [00:02<00:07,  6.42it/s]\u001b[A\n",
      "Validation DataLoader 0:  25%|██▌       | 15/59 [00:02<00:06,  6.39it/s]\u001b[A\n",
      "Validation DataLoader 0:  27%|██▋       | 16/59 [00:02<00:06,  6.36it/s]\u001b[A\n",
      "Validation DataLoader 0:  29%|██▉       | 17/59 [00:02<00:06,  6.34it/s]\u001b[A\n",
      "Validation DataLoader 0:  31%|███       | 18/59 [00:02<00:06,  6.32it/s]\u001b[A\n",
      "Validation DataLoader 0:  32%|███▏      | 19/59 [00:03<00:06,  6.30it/s]\u001b[A\n",
      "Validation DataLoader 0:  34%|███▍      | 20/59 [00:03<00:06,  6.28it/s]\u001b[A\n",
      "Validation DataLoader 0:  36%|███▌      | 21/59 [00:03<00:06,  6.27it/s]\u001b[A\n",
      "Validation DataLoader 0:  37%|███▋      | 22/59 [00:03<00:05,  6.25it/s]\u001b[A\n",
      "Validation DataLoader 0:  39%|███▉      | 23/59 [00:03<00:05,  6.24it/s]\u001b[A\n",
      "Validation DataLoader 0:  41%|████      | 24/59 [00:03<00:05,  6.23it/s]\u001b[A\n",
      "Validation DataLoader 0:  42%|████▏     | 25/59 [00:04<00:05,  6.22it/s]\u001b[A\n",
      "Validation DataLoader 0:  44%|████▍     | 26/59 [00:04<00:05,  6.21it/s]\u001b[A\n",
      "Validation DataLoader 0:  46%|████▌     | 27/59 [00:04<00:05,  6.20it/s]\u001b[A\n",
      "Validation DataLoader 0:  47%|████▋     | 28/59 [00:04<00:05,  6.19it/s]\u001b[A\n",
      "Validation DataLoader 0:  49%|████▉     | 29/59 [00:04<00:04,  6.19it/s]\u001b[A\n",
      "Validation DataLoader 0:  51%|█████     | 30/59 [00:04<00:04,  6.18it/s]\u001b[A\n",
      "Validation DataLoader 0:  53%|█████▎    | 31/59 [00:05<00:04,  6.17it/s]\u001b[A\n",
      "Validation DataLoader 0:  54%|█████▍    | 32/59 [00:05<00:04,  6.17it/s]\u001b[A\n",
      "Validation DataLoader 0:  56%|█████▌    | 33/59 [00:05<00:04,  6.16it/s]\u001b[A\n",
      "Validation DataLoader 0:  58%|█████▊    | 34/59 [00:05<00:04,  6.16it/s]\u001b[A\n",
      "Validation DataLoader 0:  59%|█████▉    | 35/59 [00:05<00:03,  6.15it/s]\u001b[A\n",
      "Validation DataLoader 0:  61%|██████    | 36/59 [00:05<00:03,  6.15it/s]\u001b[A\n",
      "Validation DataLoader 0:  63%|██████▎   | 37/59 [00:06<00:03,  6.14it/s]\u001b[A\n",
      "Validation DataLoader 0:  64%|██████▍   | 38/59 [00:06<00:03,  6.14it/s]\u001b[A\n",
      "Validation DataLoader 0:  66%|██████▌   | 39/59 [00:06<00:03,  6.13it/s]\u001b[A\n",
      "Validation DataLoader 0:  68%|██████▊   | 40/59 [00:06<00:03,  6.13it/s]\u001b[A\n",
      "Validation DataLoader 0:  69%|██████▉   | 41/59 [00:06<00:02,  6.13it/s]\u001b[A\n",
      "Validation DataLoader 0:  71%|███████   | 42/59 [00:06<00:02,  6.12it/s]\u001b[A\n",
      "Validation DataLoader 0:  73%|███████▎  | 43/59 [00:07<00:02,  6.12it/s]\u001b[A\n",
      "Validation DataLoader 0:  75%|███████▍  | 44/59 [00:07<00:02,  6.12it/s]\u001b[A\n",
      "Validation DataLoader 0:  76%|███████▋  | 45/59 [00:07<00:02,  6.11it/s]\u001b[A\n",
      "Validation DataLoader 0:  78%|███████▊  | 46/59 [00:07<00:02,  6.11it/s]\u001b[A\n",
      "Validation DataLoader 0:  80%|███████▉  | 47/59 [00:07<00:01,  6.11it/s]\u001b[A\n",
      "Validation DataLoader 0:  81%|████████▏ | 48/59 [00:07<00:01,  6.11it/s]\u001b[A\n",
      "Validation DataLoader 0:  83%|████████▎ | 49/59 [00:08<00:01,  6.10it/s]\u001b[A\n",
      "Validation DataLoader 0:  85%|████████▍ | 50/59 [00:08<00:01,  6.10it/s]\u001b[A\n",
      "Validation DataLoader 0:  86%|████████▋ | 51/59 [00:08<00:01,  6.10it/s]\u001b[A\n",
      "Validation DataLoader 0:  88%|████████▊ | 52/59 [00:08<00:01,  6.10it/s]\u001b[A\n",
      "Validation DataLoader 0:  90%|████████▉ | 53/59 [00:08<00:00,  6.09it/s]\u001b[A\n",
      "Validation DataLoader 0:  92%|█████████▏| 54/59 [00:08<00:00,  6.09it/s]\u001b[A\n",
      "Validation DataLoader 0:  93%|█████████▎| 55/59 [00:09<00:00,  6.09it/s]\u001b[A\n",
      "Validation DataLoader 0:  95%|█████████▍| 56/59 [00:09<00:00,  6.09it/s]\u001b[A\n",
      "Validation DataLoader 0:  97%|█████████▋| 57/59 [00:09<00:00,  6.09it/s]\u001b[A\n",
      "Validation DataLoader 0:  98%|█████████▊| 58/59 [00:09<00:00,  6.09it/s]\u001b[A\n",
      "Epoch 0: 100%|██████████| 525/525 [04:58<00:00,  1.76it/s, v_num=iwxn]s]\u001b[A\n",
      "Epoch 0: 100%|██████████| 525/525 [04:58<00:00,  1.76it/s, v_num=iwxn]  \u001b[A"
     ]
    },
    {
     "name": "stderr",
     "output_type": "stream",
     "text": [
      "`Trainer.fit` stopped: `max_epochs=1` reached.\n"
     ]
    },
    {
     "name": "stdout",
     "output_type": "stream",
     "text": [
      "Epoch 0: 100%|██████████| 525/525 [05:06<00:00,  1.71it/s, v_num=iwxn]\n"
     ]
    },
    {
     "name": "stderr",
     "output_type": "stream",
     "text": [
      "tokenizing: 100%|██████████| 550/550 [00:00<00:00, 2516.33it/s]\n",
      "tokenizing: 100%|██████████| 1100/1100 [00:00<00:00, 2548.59it/s]\n",
      "LOCAL_RANK: 0 - CUDA_VISIBLE_DEVICES: [0]\n",
      "/opt/conda/lib/python3.8/site-packages/pytorch_lightning/trainer/connectors/data_connector.py:430: PossibleUserWarning: The dataloader, test_dataloader, does not have many workers which may be a bottleneck. Consider increasing the value of the `num_workers` argument` (try 8 which is the number of cpus on this machine) in the `DataLoader` init to improve performance.\n",
      "  rank_zero_warn(\n"
     ]
    },
    {
     "name": "stdout",
     "output_type": "stream",
     "text": [
      "Testing DataLoader 0: 100%|██████████| 35/35 [00:05<00:00,  6.08it/s]\n",
      "────────────────────────────────────────────────────────────────────────────────────────────────────────────────────────\n",
      "       Test metric             DataLoader 0\n",
      "────────────────────────────────────────────────────────────────────────────────────────────────────────────────────────\n",
      "      test_pearson          0.9179829359054565\n",
      "────────────────────────────────────────────────────────────────────────────────────────────────────────────────────────\n"
     ]
    },
    {
     "name": "stderr",
     "output_type": "stream",
     "text": [
      "tokenizing: 100%|██████████| 9324/9324 [00:03<00:00, 2743.79it/s]\n",
      "Using 16bit Automatic Mixed Precision (AMP)\n",
      "GPU available: True (cuda), used: True\n",
      "TPU available: False, using: 0 TPU cores\n",
      "IPU available: False, using: 0 IPUs\n",
      "HPU available: False, using: 0 HPUs\n",
      "tokenizing: 100%|██████████| 9324/9324 [00:04<00:00, 2101.35it/s]\n",
      "/opt/conda/lib/python3.8/site-packages/pytorch_lightning/callbacks/model_checkpoint.py:612: UserWarning: Checkpoint directory ./MS_230412_002_KFold/99o2iwxn/checkpoints exists and is not empty.\n",
      "  rank_zero_warn(f\"Checkpoint directory {dirpath} exists and is not empty.\")\n",
      "LOCAL_RANK: 0 - CUDA_VISIBLE_DEVICES: [0]\n",
      "\n",
      "  | Name      | Type                             | Params\n",
      "---------------------------------------------------------------\n",
      "0 | plm       | RobertaForSequenceClassification | 336 M \n",
      "1 | loss_func | L1Loss                           | 0     \n",
      "---------------------------------------------------------------\n",
      "336 M     Trainable params\n",
      "0         Non-trainable params\n",
      "336 M     Total params\n",
      "1,346.630 Total estimated model params size (MB)\n"
     ]
    },
    {
     "name": "stdout",
     "output_type": "stream",
     "text": [
      "Sanity Checking DataLoader 0:  50%|█████     | 1/2 [00:00<00:00, 18.23it/s]"
     ]
    },
    {
     "name": "stderr",
     "output_type": "stream",
     "text": [
      "/opt/conda/lib/python3.8/site-packages/pytorch_lightning/trainer/connectors/data_connector.py:430: PossibleUserWarning: The dataloader, val_dataloader, does not have many workers which may be a bottleneck. Consider increasing the value of the `num_workers` argument` (try 8 which is the number of cpus on this machine) in the `DataLoader` init to improve performance.\n",
      "  rank_zero_warn(\n"
     ]
    },
    {
     "name": "stdout",
     "output_type": "stream",
     "text": [
      "                                                                           "
     ]
    },
    {
     "name": "stderr",
     "output_type": "stream",
     "text": [
      "/opt/conda/lib/python3.8/site-packages/pytorch_lightning/trainer/connectors/data_connector.py:430: PossibleUserWarning: The dataloader, train_dataloader, does not have many workers which may be a bottleneck. Consider increasing the value of the `num_workers` argument` (try 8 which is the number of cpus on this machine) in the `DataLoader` init to improve performance.\n",
      "  rank_zero_warn(\n"
     ]
    },
    {
     "name": "stdout",
     "output_type": "stream",
     "text": [
      "Epoch 0: 100%|██████████| 525/525 [04:49<00:00,  1.82it/s, v_num=iwxn]\n",
      "Validation: 0it [00:00, ?it/s]\u001b[A\n",
      "Validation:   0%|          | 0/59 [00:00<?, ?it/s]\u001b[A\n",
      "Validation DataLoader 0:   0%|          | 0/59 [00:00<?, ?it/s]\u001b[A\n",
      "Validation DataLoader 0:   2%|▏         | 1/59 [00:00<00:02, 22.14it/s]\u001b[A\n",
      "Validation DataLoader 0:   3%|▎         | 2/59 [00:00<00:04, 11.50it/s]\u001b[A\n",
      "Validation DataLoader 0:   5%|▌         | 3/59 [00:00<00:06,  8.78it/s]\u001b[A\n",
      "Validation DataLoader 0:   7%|▋         | 4/59 [00:00<00:06,  7.87it/s]\u001b[A\n",
      "Validation DataLoader 0:   8%|▊         | 5/59 [00:00<00:07,  7.40it/s]\u001b[A\n",
      "Validation DataLoader 0:  10%|█         | 6/59 [00:00<00:07,  7.11it/s]\u001b[A\n",
      "Validation DataLoader 0:  12%|█▏        | 7/59 [00:01<00:07,  6.93it/s]\u001b[A\n",
      "Validation DataLoader 0:  14%|█▎        | 8/59 [00:01<00:07,  6.79it/s]\u001b[A\n",
      "Validation DataLoader 0:  15%|█▌        | 9/59 [00:01<00:07,  6.69it/s]\u001b[A\n",
      "Validation DataLoader 0:  17%|█▋        | 10/59 [00:01<00:07,  6.62it/s]\u001b[A\n",
      "Validation DataLoader 0:  19%|█▊        | 11/59 [00:01<00:07,  6.55it/s]\u001b[A\n",
      "Validation DataLoader 0:  20%|██        | 12/59 [00:01<00:07,  6.50it/s]\u001b[A\n",
      "Validation DataLoader 0:  22%|██▏       | 13/59 [00:02<00:07,  6.46it/s]\u001b[A\n",
      "Validation DataLoader 0:  24%|██▎       | 14/59 [00:02<00:07,  6.42it/s]\u001b[A\n",
      "Validation DataLoader 0:  25%|██▌       | 15/59 [00:02<00:06,  6.39it/s]\u001b[A\n",
      "Validation DataLoader 0:  27%|██▋       | 16/59 [00:02<00:06,  6.37it/s]\u001b[A\n",
      "Validation DataLoader 0:  29%|██▉       | 17/59 [00:02<00:06,  6.34it/s]\u001b[A\n",
      "Validation DataLoader 0:  31%|███       | 18/59 [00:02<00:06,  6.32it/s]\u001b[A\n",
      "Validation DataLoader 0:  32%|███▏      | 19/59 [00:03<00:06,  6.30it/s]\u001b[A\n",
      "Validation DataLoader 0:  34%|███▍      | 20/59 [00:03<00:06,  6.29it/s]\u001b[A\n",
      "Validation DataLoader 0:  36%|███▌      | 21/59 [00:03<00:06,  6.27it/s]\u001b[A\n",
      "Validation DataLoader 0:  37%|███▋      | 22/59 [00:03<00:05,  6.26it/s]\u001b[A\n",
      "Validation DataLoader 0:  39%|███▉      | 23/59 [00:03<00:05,  6.24it/s]\u001b[A\n",
      "Validation DataLoader 0:  41%|████      | 24/59 [00:03<00:05,  6.23it/s]\u001b[A\n",
      "Validation DataLoader 0:  42%|████▏     | 25/59 [00:04<00:05,  6.22it/s]\u001b[A\n",
      "Validation DataLoader 0:  44%|████▍     | 26/59 [00:04<00:05,  6.21it/s]\u001b[A\n",
      "Validation DataLoader 0:  46%|████▌     | 27/59 [00:04<00:05,  6.20it/s]\u001b[A\n",
      "Validation DataLoader 0:  47%|████▋     | 28/59 [00:04<00:05,  6.20it/s]\u001b[A\n",
      "Validation DataLoader 0:  49%|████▉     | 29/59 [00:04<00:04,  6.19it/s]\u001b[A\n",
      "Validation DataLoader 0:  51%|█████     | 30/59 [00:04<00:04,  6.18it/s]\u001b[A\n",
      "Validation DataLoader 0:  53%|█████▎    | 31/59 [00:05<00:04,  6.17it/s]\u001b[A\n",
      "Validation DataLoader 0:  54%|█████▍    | 32/59 [00:05<00:04,  6.17it/s]\u001b[A\n",
      "Validation DataLoader 0:  56%|█████▌    | 33/59 [00:05<00:04,  6.16it/s]\u001b[A\n",
      "Validation DataLoader 0:  58%|█████▊    | 34/59 [00:05<00:04,  6.16it/s]\u001b[A\n",
      "Validation DataLoader 0:  59%|█████▉    | 35/59 [00:05<00:03,  6.15it/s]\u001b[A\n",
      "Validation DataLoader 0:  61%|██████    | 36/59 [00:05<00:03,  6.15it/s]\u001b[A\n",
      "Validation DataLoader 0:  63%|██████▎   | 37/59 [00:06<00:03,  6.14it/s]\u001b[A\n",
      "Validation DataLoader 0:  64%|██████▍   | 38/59 [00:06<00:03,  6.14it/s]\u001b[A\n",
      "Validation DataLoader 0:  66%|██████▌   | 39/59 [00:06<00:03,  6.14it/s]\u001b[A\n",
      "Validation DataLoader 0:  68%|██████▊   | 40/59 [00:06<00:03,  6.13it/s]\u001b[A\n",
      "Validation DataLoader 0:  69%|██████▉   | 41/59 [00:06<00:02,  6.13it/s]\u001b[A\n",
      "Validation DataLoader 0:  71%|███████   | 42/59 [00:06<00:02,  6.12it/s]\u001b[A\n",
      "Validation DataLoader 0:  73%|███████▎  | 43/59 [00:07<00:02,  6.12it/s]\u001b[A\n",
      "Validation DataLoader 0:  75%|███████▍  | 44/59 [00:07<00:02,  6.12it/s]\u001b[A\n",
      "Validation DataLoader 0:  76%|███████▋  | 45/59 [00:07<00:02,  6.12it/s]\u001b[A\n",
      "Validation DataLoader 0:  78%|███████▊  | 46/59 [00:07<00:02,  6.11it/s]\u001b[A\n",
      "Validation DataLoader 0:  80%|███████▉  | 47/59 [00:07<00:01,  6.11it/s]\u001b[A\n",
      "Validation DataLoader 0:  81%|████████▏ | 48/59 [00:07<00:01,  6.11it/s]\u001b[A\n",
      "Validation DataLoader 0:  83%|████████▎ | 49/59 [00:08<00:01,  6.10it/s]\u001b[A\n",
      "Validation DataLoader 0:  85%|████████▍ | 50/59 [00:08<00:01,  6.10it/s]\u001b[A\n",
      "Validation DataLoader 0:  86%|████████▋ | 51/59 [00:08<00:01,  6.10it/s]\u001b[A\n",
      "Validation DataLoader 0:  88%|████████▊ | 52/59 [00:08<00:01,  6.10it/s]\u001b[A\n",
      "Validation DataLoader 0:  90%|████████▉ | 53/59 [00:08<00:00,  6.09it/s]\u001b[A\n",
      "Validation DataLoader 0:  92%|█████████▏| 54/59 [00:08<00:00,  6.09it/s]\u001b[A\n",
      "Validation DataLoader 0:  93%|█████████▎| 55/59 [00:09<00:00,  6.09it/s]\u001b[A\n",
      "Validation DataLoader 0:  95%|█████████▍| 56/59 [00:09<00:00,  6.09it/s]\u001b[A\n",
      "Validation DataLoader 0:  97%|█████████▋| 57/59 [00:09<00:00,  6.09it/s]\u001b[A\n",
      "Validation DataLoader 0:  98%|█████████▊| 58/59 [00:09<00:00,  6.09it/s]\u001b[A\n",
      "Epoch 0: 100%|██████████| 525/525 [04:58<00:00,  1.76it/s, v_num=iwxn]s]\u001b[A\n",
      "Epoch 0: 100%|██████████| 525/525 [04:58<00:00,  1.76it/s, v_num=iwxn]  \u001b[A"
     ]
    },
    {
     "name": "stderr",
     "output_type": "stream",
     "text": [
      "`Trainer.fit` stopped: `max_epochs=1` reached.\n"
     ]
    },
    {
     "name": "stdout",
     "output_type": "stream",
     "text": [
      "Epoch 0: 100%|██████████| 525/525 [05:06<00:00,  1.71it/s, v_num=iwxn]\n"
     ]
    },
    {
     "name": "stderr",
     "output_type": "stream",
     "text": [
      "tokenizing: 100%|██████████| 550/550 [00:00<00:00, 2548.51it/s]\n",
      "tokenizing: 100%|██████████| 1100/1100 [00:00<00:00, 2567.99it/s]\n",
      "LOCAL_RANK: 0 - CUDA_VISIBLE_DEVICES: [0]\n",
      "/opt/conda/lib/python3.8/site-packages/pytorch_lightning/trainer/connectors/data_connector.py:430: PossibleUserWarning: The dataloader, test_dataloader, does not have many workers which may be a bottleneck. Consider increasing the value of the `num_workers` argument` (try 8 which is the number of cpus on this machine) in the `DataLoader` init to improve performance.\n",
      "  rank_zero_warn(\n"
     ]
    },
    {
     "name": "stdout",
     "output_type": "stream",
     "text": [
      "Testing DataLoader 0: 100%|██████████| 35/35 [00:05<00:00,  6.08it/s]\n",
      "────────────────────────────────────────────────────────────────────────────────────────────────────────────────────────\n",
      "       Test metric             DataLoader 0\n",
      "────────────────────────────────────────────────────────────────────────────────────────────────────────────────────────\n",
      "      test_pearson          0.9145880937576294\n",
      "────────────────────────────────────────────────────────────────────────────────────────────────────────────────────────\n"
     ]
    },
    {
     "name": "stderr",
     "output_type": "stream",
     "text": [
      "tokenizing: 100%|██████████| 9324/9324 [00:03<00:00, 2816.58it/s]\n",
      "Using 16bit Automatic Mixed Precision (AMP)\n",
      "GPU available: True (cuda), used: True\n",
      "TPU available: False, using: 0 TPU cores\n",
      "IPU available: False, using: 0 IPUs\n",
      "HPU available: False, using: 0 HPUs\n",
      "tokenizing: 100%|██████████| 9324/9324 [00:03<00:00, 2566.99it/s]\n",
      "/opt/conda/lib/python3.8/site-packages/pytorch_lightning/callbacks/model_checkpoint.py:612: UserWarning: Checkpoint directory ./MS_230412_002_KFold/99o2iwxn/checkpoints exists and is not empty.\n",
      "  rank_zero_warn(f\"Checkpoint directory {dirpath} exists and is not empty.\")\n",
      "LOCAL_RANK: 0 - CUDA_VISIBLE_DEVICES: [0]\n",
      "\n",
      "  | Name      | Type                             | Params\n",
      "---------------------------------------------------------------\n",
      "0 | plm       | RobertaForSequenceClassification | 336 M \n",
      "1 | loss_func | L1Loss                           | 0     \n",
      "---------------------------------------------------------------\n",
      "336 M     Trainable params\n",
      "0         Non-trainable params\n",
      "336 M     Total params\n",
      "1,346.630 Total estimated model params size (MB)\n"
     ]
    },
    {
     "name": "stdout",
     "output_type": "stream",
     "text": [
      "Sanity Checking DataLoader 0:  50%|█████     | 1/2 [00:00<00:00, 23.75it/s]"
     ]
    },
    {
     "name": "stderr",
     "output_type": "stream",
     "text": [
      "/opt/conda/lib/python3.8/site-packages/pytorch_lightning/trainer/connectors/data_connector.py:430: PossibleUserWarning: The dataloader, val_dataloader, does not have many workers which may be a bottleneck. Consider increasing the value of the `num_workers` argument` (try 8 which is the number of cpus on this machine) in the `DataLoader` init to improve performance.\n",
      "  rank_zero_warn(\n"
     ]
    },
    {
     "name": "stdout",
     "output_type": "stream",
     "text": [
      "                                                                           "
     ]
    },
    {
     "name": "stderr",
     "output_type": "stream",
     "text": [
      "/opt/conda/lib/python3.8/site-packages/pytorch_lightning/trainer/connectors/data_connector.py:430: PossibleUserWarning: The dataloader, train_dataloader, does not have many workers which may be a bottleneck. Consider increasing the value of the `num_workers` argument` (try 8 which is the number of cpus on this machine) in the `DataLoader` init to improve performance.\n",
      "  rank_zero_warn(\n"
     ]
    },
    {
     "name": "stdout",
     "output_type": "stream",
     "text": [
      "Epoch 0: 100%|██████████| 525/525 [04:49<00:00,  1.82it/s, v_num=iwxn]\n",
      "Validation: 0it [00:00, ?it/s]\u001b[A\n",
      "Validation:   0%|          | 0/59 [00:00<?, ?it/s]\u001b[A\n",
      "Validation DataLoader 0:   0%|          | 0/59 [00:00<?, ?it/s]\u001b[A\n",
      "Validation DataLoader 0:   2%|▏         | 1/59 [00:00<00:02, 21.53it/s]\u001b[A\n",
      "Validation DataLoader 0:   3%|▎         | 2/59 [00:00<00:05, 11.39it/s]\u001b[A\n",
      "Validation DataLoader 0:   5%|▌         | 3/59 [00:00<00:06,  8.76it/s]\u001b[A\n",
      "Validation DataLoader 0:   7%|▋         | 4/59 [00:00<00:07,  7.85it/s]\u001b[A\n",
      "Validation DataLoader 0:   8%|▊         | 5/59 [00:00<00:07,  7.39it/s]\u001b[A\n",
      "Validation DataLoader 0:  10%|█         | 6/59 [00:00<00:07,  7.12it/s]\u001b[A\n",
      "Validation DataLoader 0:  12%|█▏        | 7/59 [00:01<00:07,  6.93it/s]\u001b[A\n",
      "Validation DataLoader 0:  14%|█▎        | 8/59 [00:01<00:07,  6.79it/s]\u001b[A\n",
      "Validation DataLoader 0:  15%|█▌        | 9/59 [00:01<00:07,  6.70it/s]\u001b[A\n",
      "Validation DataLoader 0:  17%|█▋        | 10/59 [00:01<00:07,  6.61it/s]\u001b[A\n",
      "Validation DataLoader 0:  19%|█▊        | 11/59 [00:01<00:07,  6.55it/s]\u001b[A\n",
      "Validation DataLoader 0:  20%|██        | 12/59 [00:01<00:07,  6.50it/s]\u001b[A\n",
      "Validation DataLoader 0:  22%|██▏       | 13/59 [00:02<00:07,  6.46it/s]\u001b[A\n",
      "Validation DataLoader 0:  24%|██▎       | 14/59 [00:02<00:07,  6.42it/s]\u001b[A\n",
      "Validation DataLoader 0:  25%|██▌       | 15/59 [00:02<00:06,  6.39it/s]\u001b[A\n",
      "Validation DataLoader 0:  27%|██▋       | 16/59 [00:02<00:06,  6.36it/s]\u001b[A\n",
      "Validation DataLoader 0:  29%|██▉       | 17/59 [00:02<00:06,  6.34it/s]\u001b[A\n",
      "Validation DataLoader 0:  31%|███       | 18/59 [00:02<00:06,  6.32it/s]\u001b[A\n",
      "Validation DataLoader 0:  32%|███▏      | 19/59 [00:03<00:06,  6.30it/s]\u001b[A\n",
      "Validation DataLoader 0:  34%|███▍      | 20/59 [00:03<00:06,  6.28it/s]\u001b[A\n",
      "Validation DataLoader 0:  36%|███▌      | 21/59 [00:03<00:06,  6.27it/s]\u001b[A\n",
      "Validation DataLoader 0:  37%|███▋      | 22/59 [00:03<00:05,  6.25it/s]\u001b[A\n",
      "Validation DataLoader 0:  39%|███▉      | 23/59 [00:03<00:05,  6.24it/s]\u001b[A\n",
      "Validation DataLoader 0:  41%|████      | 24/59 [00:03<00:05,  6.23it/s]\u001b[A\n",
      "Validation DataLoader 0:  42%|████▏     | 25/59 [00:04<00:05,  6.22it/s]\u001b[A\n",
      "Validation DataLoader 0:  44%|████▍     | 26/59 [00:04<00:05,  6.21it/s]\u001b[A\n",
      "Validation DataLoader 0:  46%|████▌     | 27/59 [00:04<00:05,  6.20it/s]\u001b[A\n",
      "Validation DataLoader 0:  47%|████▋     | 28/59 [00:04<00:05,  6.20it/s]\u001b[A\n",
      "Validation DataLoader 0:  49%|████▉     | 29/59 [00:04<00:04,  6.19it/s]\u001b[A\n",
      "Validation DataLoader 0:  51%|█████     | 30/59 [00:04<00:04,  6.18it/s]\u001b[A\n",
      "Validation DataLoader 0:  53%|█████▎    | 31/59 [00:05<00:04,  6.17it/s]\u001b[A\n",
      "Validation DataLoader 0:  54%|█████▍    | 32/59 [00:05<00:04,  6.17it/s]\u001b[A\n",
      "Validation DataLoader 0:  56%|█████▌    | 33/59 [00:05<00:04,  6.16it/s]\u001b[A\n",
      "Validation DataLoader 0:  58%|█████▊    | 34/59 [00:05<00:04,  6.16it/s]\u001b[A\n",
      "Validation DataLoader 0:  59%|█████▉    | 35/59 [00:05<00:03,  6.15it/s]\u001b[A\n",
      "Validation DataLoader 0:  61%|██████    | 36/59 [00:05<00:03,  6.15it/s]\u001b[A\n",
      "Validation DataLoader 0:  63%|██████▎   | 37/59 [00:06<00:03,  6.14it/s]\u001b[A\n",
      "Validation DataLoader 0:  64%|██████▍   | 38/59 [00:06<00:03,  6.14it/s]\u001b[A\n",
      "Validation DataLoader 0:  66%|██████▌   | 39/59 [00:06<00:03,  6.13it/s]\u001b[A\n",
      "Validation DataLoader 0:  68%|██████▊   | 40/59 [00:06<00:03,  6.13it/s]\u001b[A\n",
      "Validation DataLoader 0:  69%|██████▉   | 41/59 [00:06<00:02,  6.13it/s]\u001b[A\n",
      "Validation DataLoader 0:  71%|███████   | 42/59 [00:06<00:02,  6.12it/s]\u001b[A\n",
      "Validation DataLoader 0:  73%|███████▎  | 43/59 [00:07<00:02,  6.12it/s]\u001b[A\n",
      "Validation DataLoader 0:  75%|███████▍  | 44/59 [00:07<00:02,  6.12it/s]\u001b[A\n",
      "Validation DataLoader 0:  76%|███████▋  | 45/59 [00:07<00:02,  6.11it/s]\u001b[A\n",
      "Validation DataLoader 0:  78%|███████▊  | 46/59 [00:07<00:02,  6.11it/s]\u001b[A\n",
      "Validation DataLoader 0:  80%|███████▉  | 47/59 [00:07<00:01,  6.11it/s]\u001b[A\n",
      "Validation DataLoader 0:  81%|████████▏ | 48/59 [00:07<00:01,  6.10it/s]\u001b[A\n",
      "Validation DataLoader 0:  83%|████████▎ | 49/59 [00:08<00:01,  6.10it/s]\u001b[A\n",
      "Validation DataLoader 0:  85%|████████▍ | 50/59 [00:08<00:01,  6.10it/s]\u001b[A\n",
      "Validation DataLoader 0:  86%|████████▋ | 51/59 [00:08<00:01,  6.10it/s]\u001b[A\n",
      "Validation DataLoader 0:  88%|████████▊ | 52/59 [00:08<00:01,  6.09it/s]\u001b[A\n",
      "Validation DataLoader 0:  90%|████████▉ | 53/59 [00:08<00:00,  6.09it/s]\u001b[A\n",
      "Validation DataLoader 0:  92%|█████████▏| 54/59 [00:08<00:00,  6.09it/s]\u001b[A\n",
      "Validation DataLoader 0:  93%|█████████▎| 55/59 [00:09<00:00,  6.09it/s]\u001b[A\n",
      "Validation DataLoader 0:  95%|█████████▍| 56/59 [00:09<00:00,  6.09it/s]\u001b[A\n",
      "Validation DataLoader 0:  97%|█████████▋| 57/59 [00:09<00:00,  6.08it/s]\u001b[A\n",
      "Validation DataLoader 0:  98%|█████████▊| 58/59 [00:09<00:00,  6.08it/s]\u001b[A\n",
      "Epoch 0: 100%|██████████| 525/525 [04:58<00:00,  1.76it/s, v_num=iwxn]s]\u001b[A\n",
      "Epoch 0: 100%|██████████| 525/525 [04:58<00:00,  1.76it/s, v_num=iwxn]  \u001b[A"
     ]
    },
    {
     "name": "stderr",
     "output_type": "stream",
     "text": [
      "`Trainer.fit` stopped: `max_epochs=1` reached.\n"
     ]
    },
    {
     "name": "stdout",
     "output_type": "stream",
     "text": [
      "Epoch 0: 100%|██████████| 525/525 [05:07<00:00,  1.71it/s, v_num=iwxn]\n"
     ]
    },
    {
     "name": "stderr",
     "output_type": "stream",
     "text": [
      "tokenizing: 100%|██████████| 550/550 [00:00<00:00, 2493.54it/s]\n",
      "tokenizing: 100%|██████████| 1100/1100 [00:00<00:00, 2558.61it/s]\n",
      "LOCAL_RANK: 0 - CUDA_VISIBLE_DEVICES: [0]\n",
      "/opt/conda/lib/python3.8/site-packages/pytorch_lightning/trainer/connectors/data_connector.py:430: PossibleUserWarning: The dataloader, test_dataloader, does not have many workers which may be a bottleneck. Consider increasing the value of the `num_workers` argument` (try 8 which is the number of cpus on this machine) in the `DataLoader` init to improve performance.\n",
      "  rank_zero_warn(\n"
     ]
    },
    {
     "name": "stdout",
     "output_type": "stream",
     "text": [
      "Testing DataLoader 0: 100%|██████████| 35/35 [00:05<00:00,  6.08it/s]\n",
      "────────────────────────────────────────────────────────────────────────────────────────────────────────────────────────\n",
      "       Test metric             DataLoader 0\n",
      "────────────────────────────────────────────────────────────────────────────────────────────────────────────────────────\n",
      "      test_pearson           0.916860818862915\n",
      "────────────────────────────────────────────────────────────────────────────────────────────────────────────────────────\n"
     ]
    },
    {
     "name": "stderr",
     "output_type": "stream",
     "text": [
      "tokenizing: 100%|██████████| 9324/9324 [00:03<00:00, 2431.37it/s]\n",
      "Using 16bit Automatic Mixed Precision (AMP)\n",
      "GPU available: True (cuda), used: True\n",
      "TPU available: False, using: 0 TPU cores\n",
      "IPU available: False, using: 0 IPUs\n",
      "HPU available: False, using: 0 HPUs\n",
      "tokenizing: 100%|██████████| 9324/9324 [00:04<00:00, 2327.66it/s]\n",
      "/opt/conda/lib/python3.8/site-packages/pytorch_lightning/callbacks/model_checkpoint.py:612: UserWarning: Checkpoint directory ./MS_230412_002_KFold/99o2iwxn/checkpoints exists and is not empty.\n",
      "  rank_zero_warn(f\"Checkpoint directory {dirpath} exists and is not empty.\")\n",
      "LOCAL_RANK: 0 - CUDA_VISIBLE_DEVICES: [0]\n",
      "\n",
      "  | Name      | Type                             | Params\n",
      "---------------------------------------------------------------\n",
      "0 | plm       | RobertaForSequenceClassification | 336 M \n",
      "1 | loss_func | L1Loss                           | 0     \n",
      "---------------------------------------------------------------\n",
      "336 M     Trainable params\n",
      "0         Non-trainable params\n",
      "336 M     Total params\n",
      "1,346.630 Total estimated model params size (MB)\n"
     ]
    },
    {
     "name": "stdout",
     "output_type": "stream",
     "text": [
      "Sanity Checking DataLoader 0:  50%|█████     | 1/2 [00:00<00:00, 20.98it/s]"
     ]
    },
    {
     "name": "stderr",
     "output_type": "stream",
     "text": [
      "/opt/conda/lib/python3.8/site-packages/pytorch_lightning/trainer/connectors/data_connector.py:430: PossibleUserWarning: The dataloader, val_dataloader, does not have many workers which may be a bottleneck. Consider increasing the value of the `num_workers` argument` (try 8 which is the number of cpus on this machine) in the `DataLoader` init to improve performance.\n",
      "  rank_zero_warn(\n"
     ]
    },
    {
     "name": "stdout",
     "output_type": "stream",
     "text": [
      "                                                                           "
     ]
    },
    {
     "name": "stderr",
     "output_type": "stream",
     "text": [
      "/opt/conda/lib/python3.8/site-packages/pytorch_lightning/trainer/connectors/data_connector.py:430: PossibleUserWarning: The dataloader, train_dataloader, does not have many workers which may be a bottleneck. Consider increasing the value of the `num_workers` argument` (try 8 which is the number of cpus on this machine) in the `DataLoader` init to improve performance.\n",
      "  rank_zero_warn(\n"
     ]
    },
    {
     "name": "stdout",
     "output_type": "stream",
     "text": [
      "Epoch 0: 100%|██████████| 525/525 [04:48<00:00,  1.82it/s, v_num=iwxn]\n",
      "Validation: 0it [00:00, ?it/s]\u001b[A\n",
      "Validation:   0%|          | 0/59 [00:00<?, ?it/s]\u001b[A\n",
      "Validation DataLoader 0:   0%|          | 0/59 [00:00<?, ?it/s]\u001b[A\n",
      "Validation DataLoader 0:   2%|▏         | 1/59 [00:00<00:02, 25.18it/s]\u001b[A\n",
      "Validation DataLoader 0:   3%|▎         | 2/59 [00:00<00:04, 11.46it/s]\u001b[A\n",
      "Validation DataLoader 0:   5%|▌         | 3/59 [00:00<00:06,  8.79it/s]\u001b[A\n",
      "Validation DataLoader 0:   7%|▋         | 4/59 [00:00<00:06,  7.86it/s]\u001b[A\n",
      "Validation DataLoader 0:   8%|▊         | 5/59 [00:00<00:07,  7.41it/s]\u001b[A\n",
      "Validation DataLoader 0:  10%|█         | 6/59 [00:00<00:07,  7.12it/s]\u001b[A\n",
      "Validation DataLoader 0:  12%|█▏        | 7/59 [00:01<00:07,  6.93it/s]\u001b[A\n",
      "Validation DataLoader 0:  14%|█▎        | 8/59 [00:01<00:07,  6.80it/s]\u001b[A\n",
      "Validation DataLoader 0:  15%|█▌        | 9/59 [00:01<00:07,  6.69it/s]\u001b[A\n",
      "Validation DataLoader 0:  17%|█▋        | 10/59 [00:01<00:07,  6.62it/s]\u001b[A\n",
      "Validation DataLoader 0:  19%|█▊        | 11/59 [00:01<00:07,  6.55it/s]\u001b[A\n",
      "Validation DataLoader 0:  20%|██        | 12/59 [00:01<00:07,  6.50it/s]\u001b[A\n",
      "Validation DataLoader 0:  22%|██▏       | 13/59 [00:02<00:07,  6.46it/s]\u001b[A\n",
      "Validation DataLoader 0:  24%|██▎       | 14/59 [00:02<00:07,  6.42it/s]\u001b[A\n",
      "Validation DataLoader 0:  25%|██▌       | 15/59 [00:02<00:06,  6.39it/s]\u001b[A\n",
      "Validation DataLoader 0:  27%|██▋       | 16/59 [00:02<00:06,  6.36it/s]\u001b[A\n",
      "Validation DataLoader 0:  29%|██▉       | 17/59 [00:02<00:06,  6.34it/s]\u001b[A\n",
      "Validation DataLoader 0:  31%|███       | 18/59 [00:02<00:06,  6.32it/s]\u001b[A\n",
      "Validation DataLoader 0:  32%|███▏      | 19/59 [00:03<00:06,  6.30it/s]\u001b[A\n",
      "Validation DataLoader 0:  34%|███▍      | 20/59 [00:03<00:06,  6.28it/s]\u001b[A\n",
      "Validation DataLoader 0:  36%|███▌      | 21/59 [00:03<00:06,  6.27it/s]\u001b[A\n",
      "Validation DataLoader 0:  37%|███▋      | 22/59 [00:03<00:05,  6.25it/s]\u001b[A\n",
      "Validation DataLoader 0:  39%|███▉      | 23/59 [00:03<00:05,  6.24it/s]\u001b[A\n",
      "Validation DataLoader 0:  41%|████      | 24/59 [00:03<00:05,  6.23it/s]\u001b[A\n",
      "Validation DataLoader 0:  42%|████▏     | 25/59 [00:04<00:05,  6.22it/s]\u001b[A\n",
      "Validation DataLoader 0:  44%|████▍     | 26/59 [00:04<00:05,  6.21it/s]\u001b[A\n",
      "Validation DataLoader 0:  46%|████▌     | 27/59 [00:04<00:05,  6.20it/s]\u001b[A\n",
      "Validation DataLoader 0:  47%|████▋     | 28/59 [00:04<00:05,  6.19it/s]\u001b[A\n",
      "Validation DataLoader 0:  49%|████▉     | 29/59 [00:04<00:04,  6.19it/s]\u001b[A\n",
      "Validation DataLoader 0:  51%|█████     | 30/59 [00:04<00:04,  6.18it/s]\u001b[A\n",
      "Validation DataLoader 0:  53%|█████▎    | 31/59 [00:05<00:04,  6.17it/s]\u001b[A\n",
      "Validation DataLoader 0:  54%|█████▍    | 32/59 [00:05<00:04,  6.17it/s]\u001b[A\n",
      "Validation DataLoader 0:  56%|█████▌    | 33/59 [00:05<00:04,  6.16it/s]\u001b[A\n",
      "Validation DataLoader 0:  58%|█████▊    | 34/59 [00:05<00:04,  6.16it/s]\u001b[A\n",
      "Validation DataLoader 0:  59%|█████▉    | 35/59 [00:05<00:03,  6.15it/s]\u001b[A\n",
      "Validation DataLoader 0:  61%|██████    | 36/59 [00:05<00:03,  6.15it/s]\u001b[A\n",
      "Validation DataLoader 0:  63%|██████▎   | 37/59 [00:06<00:03,  6.14it/s]\u001b[A\n",
      "Validation DataLoader 0:  64%|██████▍   | 38/59 [00:06<00:03,  6.14it/s]\u001b[A\n",
      "Validation DataLoader 0:  66%|██████▌   | 39/59 [00:06<00:03,  6.13it/s]\u001b[A\n",
      "Validation DataLoader 0:  68%|██████▊   | 40/59 [00:06<00:03,  6.13it/s]\u001b[A\n",
      "Validation DataLoader 0:  69%|██████▉   | 41/59 [00:06<00:02,  6.13it/s]\u001b[A\n",
      "Validation DataLoader 0:  71%|███████   | 42/59 [00:06<00:02,  6.12it/s]\u001b[A\n",
      "Validation DataLoader 0:  73%|███████▎  | 43/59 [00:07<00:02,  6.12it/s]\u001b[A\n",
      "Validation DataLoader 0:  75%|███████▍  | 44/59 [00:07<00:02,  6.12it/s]\u001b[A\n",
      "Validation DataLoader 0:  76%|███████▋  | 45/59 [00:07<00:02,  6.11it/s]\u001b[A\n",
      "Validation DataLoader 0:  78%|███████▊  | 46/59 [00:07<00:02,  6.11it/s]\u001b[A\n",
      "Validation DataLoader 0:  80%|███████▉  | 47/59 [00:07<00:01,  6.11it/s]\u001b[A\n",
      "Validation DataLoader 0:  81%|████████▏ | 48/59 [00:07<00:01,  6.11it/s]\u001b[A\n",
      "Validation DataLoader 0:  83%|████████▎ | 49/59 [00:08<00:01,  6.10it/s]\u001b[A\n",
      "Validation DataLoader 0:  85%|████████▍ | 50/59 [00:08<00:01,  6.10it/s]\u001b[A\n",
      "Validation DataLoader 0:  86%|████████▋ | 51/59 [00:08<00:01,  6.10it/s]\u001b[A\n",
      "Validation DataLoader 0:  88%|████████▊ | 52/59 [00:08<00:01,  6.10it/s]\u001b[A\n",
      "Validation DataLoader 0:  90%|████████▉ | 53/59 [00:08<00:00,  6.09it/s]\u001b[A\n",
      "Validation DataLoader 0:  92%|█████████▏| 54/59 [00:08<00:00,  6.09it/s]\u001b[A\n",
      "Validation DataLoader 0:  93%|█████████▎| 55/59 [00:09<00:00,  6.09it/s]\u001b[A\n",
      "Validation DataLoader 0:  95%|█████████▍| 56/59 [00:09<00:00,  6.09it/s]\u001b[A\n",
      "Validation DataLoader 0:  97%|█████████▋| 57/59 [00:09<00:00,  6.09it/s]\u001b[A\n",
      "Validation DataLoader 0:  98%|█████████▊| 58/59 [00:09<00:00,  6.08it/s]\u001b[A\n",
      "Epoch 0: 100%|██████████| 525/525 [04:58<00:00,  1.76it/s, v_num=iwxn]s]\u001b[A\n",
      "Epoch 0: 100%|██████████| 525/525 [04:58<00:00,  1.76it/s, v_num=iwxn]  \u001b[A"
     ]
    },
    {
     "name": "stderr",
     "output_type": "stream",
     "text": [
      "`Trainer.fit` stopped: `max_epochs=1` reached.\n"
     ]
    },
    {
     "name": "stdout",
     "output_type": "stream",
     "text": [
      "Epoch 0: 100%|██████████| 525/525 [05:06<00:00,  1.72it/s, v_num=iwxn]\n"
     ]
    },
    {
     "name": "stderr",
     "output_type": "stream",
     "text": [
      "tokenizing: 100%|██████████| 550/550 [00:00<00:00, 2485.72it/s]\n",
      "tokenizing: 100%|██████████| 1100/1100 [00:00<00:00, 2399.36it/s]\n",
      "LOCAL_RANK: 0 - CUDA_VISIBLE_DEVICES: [0]\n",
      "/opt/conda/lib/python3.8/site-packages/pytorch_lightning/trainer/connectors/data_connector.py:430: PossibleUserWarning: The dataloader, test_dataloader, does not have many workers which may be a bottleneck. Consider increasing the value of the `num_workers` argument` (try 8 which is the number of cpus on this machine) in the `DataLoader` init to improve performance.\n",
      "  rank_zero_warn(\n"
     ]
    },
    {
     "name": "stdout",
     "output_type": "stream",
     "text": [
      "Testing DataLoader 0: 100%|██████████| 35/35 [00:05<00:00,  6.08it/s]\n",
      "────────────────────────────────────────────────────────────────────────────────────────────────────────────────────────\n",
      "       Test metric             DataLoader 0\n",
      "────────────────────────────────────────────────────────────────────────────────────────────────────────────────────────\n",
      "      test_pearson          0.9131960272789001\n",
      "────────────────────────────────────────────────────────────────────────────────────────────────────────────────────────\n"
     ]
    },
    {
     "name": "stderr",
     "output_type": "stream",
     "text": [
      "tokenizing: 100%|██████████| 9324/9324 [00:03<00:00, 2518.66it/s]\n",
      "Using 16bit Automatic Mixed Precision (AMP)\n",
      "GPU available: True (cuda), used: True\n",
      "TPU available: False, using: 0 TPU cores\n",
      "IPU available: False, using: 0 IPUs\n",
      "HPU available: False, using: 0 HPUs\n",
      "tokenizing: 100%|██████████| 9324/9324 [00:04<00:00, 2262.68it/s]\n",
      "/opt/conda/lib/python3.8/site-packages/pytorch_lightning/callbacks/model_checkpoint.py:612: UserWarning: Checkpoint directory ./MS_230412_002_KFold/99o2iwxn/checkpoints exists and is not empty.\n",
      "  rank_zero_warn(f\"Checkpoint directory {dirpath} exists and is not empty.\")\n",
      "LOCAL_RANK: 0 - CUDA_VISIBLE_DEVICES: [0]\n",
      "\n",
      "  | Name      | Type                             | Params\n",
      "---------------------------------------------------------------\n",
      "0 | plm       | RobertaForSequenceClassification | 336 M \n",
      "1 | loss_func | L1Loss                           | 0     \n",
      "---------------------------------------------------------------\n",
      "336 M     Trainable params\n",
      "0         Non-trainable params\n",
      "336 M     Total params\n",
      "1,346.630 Total estimated model params size (MB)\n"
     ]
    },
    {
     "name": "stdout",
     "output_type": "stream",
     "text": [
      "Sanity Checking DataLoader 0:  50%|█████     | 1/2 [00:00<00:00, 21.09it/s]"
     ]
    },
    {
     "name": "stderr",
     "output_type": "stream",
     "text": [
      "/opt/conda/lib/python3.8/site-packages/pytorch_lightning/trainer/connectors/data_connector.py:430: PossibleUserWarning: The dataloader, val_dataloader, does not have many workers which may be a bottleneck. Consider increasing the value of the `num_workers` argument` (try 8 which is the number of cpus on this machine) in the `DataLoader` init to improve performance.\n",
      "  rank_zero_warn(\n"
     ]
    },
    {
     "name": "stdout",
     "output_type": "stream",
     "text": [
      "                                                                           "
     ]
    },
    {
     "name": "stderr",
     "output_type": "stream",
     "text": [
      "/opt/conda/lib/python3.8/site-packages/pytorch_lightning/trainer/connectors/data_connector.py:430: PossibleUserWarning: The dataloader, train_dataloader, does not have many workers which may be a bottleneck. Consider increasing the value of the `num_workers` argument` (try 8 which is the number of cpus on this machine) in the `DataLoader` init to improve performance.\n",
      "  rank_zero_warn(\n"
     ]
    },
    {
     "name": "stdout",
     "output_type": "stream",
     "text": [
      "Epoch 0: 100%|██████████| 525/525 [04:49<00:00,  1.82it/s, v_num=iwxn]\n",
      "Validation: 0it [00:00, ?it/s]\u001b[A\n",
      "Validation:   0%|          | 0/59 [00:00<?, ?it/s]\u001b[A\n",
      "Validation DataLoader 0:   0%|          | 0/59 [00:00<?, ?it/s]\u001b[A\n",
      "Validation DataLoader 0:   2%|▏         | 1/59 [00:00<00:02, 26.23it/s]\u001b[A\n",
      "Validation DataLoader 0:   3%|▎         | 2/59 [00:00<00:04, 11.42it/s]\u001b[A\n",
      "Validation DataLoader 0:   5%|▌         | 3/59 [00:00<00:06,  8.76it/s]\u001b[A\n",
      "Validation DataLoader 0:   7%|▋         | 4/59 [00:00<00:07,  7.85it/s]\u001b[A\n",
      "Validation DataLoader 0:   8%|▊         | 5/59 [00:00<00:07,  7.40it/s]\u001b[A\n",
      "Validation DataLoader 0:  10%|█         | 6/59 [00:00<00:07,  7.11it/s]\u001b[A\n",
      "Validation DataLoader 0:  12%|█▏        | 7/59 [00:01<00:07,  6.93it/s]\u001b[A\n",
      "Validation DataLoader 0:  14%|█▎        | 8/59 [00:01<00:07,  6.79it/s]\u001b[A\n",
      "Validation DataLoader 0:  15%|█▌        | 9/59 [00:01<00:07,  6.69it/s]\u001b[A\n",
      "Validation DataLoader 0:  17%|█▋        | 10/59 [00:01<00:07,  6.62it/s]\u001b[A\n",
      "Validation DataLoader 0:  19%|█▊        | 11/59 [00:01<00:07,  6.55it/s]\u001b[A\n",
      "Validation DataLoader 0:  20%|██        | 12/59 [00:01<00:07,  6.50it/s]\u001b[A\n",
      "Validation DataLoader 0:  22%|██▏       | 13/59 [00:02<00:07,  6.46it/s]\u001b[A\n",
      "Validation DataLoader 0:  24%|██▎       | 14/59 [00:02<00:07,  6.42it/s]\u001b[A\n",
      "Validation DataLoader 0:  25%|██▌       | 15/59 [00:02<00:06,  6.39it/s]\u001b[A\n",
      "Validation DataLoader 0:  27%|██▋       | 16/59 [00:02<00:06,  6.36it/s]\u001b[A\n",
      "Validation DataLoader 0:  29%|██▉       | 17/59 [00:02<00:06,  6.34it/s]\u001b[A\n",
      "Validation DataLoader 0:  31%|███       | 18/59 [00:02<00:06,  6.32it/s]\u001b[A\n",
      "Validation DataLoader 0:  32%|███▏      | 19/59 [00:03<00:06,  6.30it/s]\u001b[A\n",
      "Validation DataLoader 0:  34%|███▍      | 20/59 [00:03<00:06,  6.28it/s]\u001b[A\n",
      "Validation DataLoader 0:  36%|███▌      | 21/59 [00:03<00:06,  6.27it/s]\u001b[A\n",
      "Validation DataLoader 0:  37%|███▋      | 22/59 [00:03<00:05,  6.26it/s]\u001b[A\n",
      "Validation DataLoader 0:  39%|███▉      | 23/59 [00:03<00:05,  6.24it/s]\u001b[A\n",
      "Validation DataLoader 0:  41%|████      | 24/59 [00:03<00:05,  6.23it/s]\u001b[A\n",
      "Validation DataLoader 0:  42%|████▏     | 25/59 [00:04<00:05,  6.22it/s]\u001b[A\n",
      "Validation DataLoader 0:  44%|████▍     | 26/59 [00:04<00:05,  6.21it/s]\u001b[A\n",
      "Validation DataLoader 0:  46%|████▌     | 27/59 [00:04<00:05,  6.20it/s]\u001b[A\n",
      "Validation DataLoader 0:  47%|████▋     | 28/59 [00:04<00:05,  6.20it/s]\u001b[A\n",
      "Validation DataLoader 0:  49%|████▉     | 29/59 [00:04<00:04,  6.19it/s]\u001b[A\n",
      "Validation DataLoader 0:  51%|█████     | 30/59 [00:04<00:04,  6.18it/s]\u001b[A\n",
      "Validation DataLoader 0:  53%|█████▎    | 31/59 [00:05<00:04,  6.17it/s]\u001b[A\n",
      "Validation DataLoader 0:  54%|█████▍    | 32/59 [00:05<00:04,  6.17it/s]\u001b[A\n",
      "Validation DataLoader 0:  56%|█████▌    | 33/59 [00:05<00:04,  6.16it/s]\u001b[A\n",
      "Validation DataLoader 0:  58%|█████▊    | 34/59 [00:05<00:04,  6.16it/s]\u001b[A\n",
      "Validation DataLoader 0:  59%|█████▉    | 35/59 [00:05<00:03,  6.15it/s]\u001b[A\n",
      "Validation DataLoader 0:  61%|██████    | 36/59 [00:05<00:03,  6.15it/s]\u001b[A\n",
      "Validation DataLoader 0:  63%|██████▎   | 37/59 [00:06<00:03,  6.14it/s]\u001b[A\n",
      "Validation DataLoader 0:  64%|██████▍   | 38/59 [00:06<00:03,  6.14it/s]\u001b[A\n",
      "Validation DataLoader 0:  66%|██████▌   | 39/59 [00:06<00:03,  6.13it/s]\u001b[A\n",
      "Validation DataLoader 0:  68%|██████▊   | 40/59 [00:06<00:03,  6.13it/s]\u001b[A\n",
      "Validation DataLoader 0:  69%|██████▉   | 41/59 [00:06<00:02,  6.13it/s]\u001b[A\n",
      "Validation DataLoader 0:  71%|███████   | 42/59 [00:06<00:02,  6.12it/s]\u001b[A\n",
      "Validation DataLoader 0:  73%|███████▎  | 43/59 [00:07<00:02,  6.12it/s]\u001b[A\n",
      "Validation DataLoader 0:  75%|███████▍  | 44/59 [00:07<00:02,  6.12it/s]\u001b[A\n",
      "Validation DataLoader 0:  76%|███████▋  | 45/59 [00:07<00:02,  6.11it/s]\u001b[A\n",
      "Validation DataLoader 0:  78%|███████▊  | 46/59 [00:07<00:02,  6.11it/s]\u001b[A\n",
      "Validation DataLoader 0:  80%|███████▉  | 47/59 [00:07<00:01,  6.11it/s]\u001b[A\n",
      "Validation DataLoader 0:  81%|████████▏ | 48/59 [00:07<00:01,  6.11it/s]\u001b[A\n",
      "Validation DataLoader 0:  83%|████████▎ | 49/59 [00:08<00:01,  6.10it/s]\u001b[A\n",
      "Validation DataLoader 0:  85%|████████▍ | 50/59 [00:08<00:01,  6.10it/s]\u001b[A\n",
      "Validation DataLoader 0:  86%|████████▋ | 51/59 [00:08<00:01,  6.10it/s]\u001b[A\n",
      "Validation DataLoader 0:  88%|████████▊ | 52/59 [00:08<00:01,  6.10it/s]\u001b[A\n",
      "Validation DataLoader 0:  90%|████████▉ | 53/59 [00:08<00:00,  6.09it/s]\u001b[A\n",
      "Validation DataLoader 0:  92%|█████████▏| 54/59 [00:08<00:00,  6.09it/s]\u001b[A\n",
      "Validation DataLoader 0:  93%|█████████▎| 55/59 [00:09<00:00,  6.09it/s]\u001b[A\n",
      "Validation DataLoader 0:  95%|█████████▍| 56/59 [00:09<00:00,  6.09it/s]\u001b[A\n",
      "Validation DataLoader 0:  97%|█████████▋| 57/59 [00:09<00:00,  6.09it/s]\u001b[A\n",
      "Validation DataLoader 0:  98%|█████████▊| 58/59 [00:09<00:00,  6.08it/s]\u001b[A\n",
      "Epoch 0: 100%|██████████| 525/525 [04:58<00:00,  1.76it/s, v_num=iwxn]s]\u001b[A\n",
      "Epoch 0: 100%|██████████| 525/525 [04:58<00:00,  1.76it/s, v_num=iwxn]  \u001b[A"
     ]
    },
    {
     "name": "stderr",
     "output_type": "stream",
     "text": [
      "`Trainer.fit` stopped: `max_epochs=1` reached.\n"
     ]
    },
    {
     "name": "stdout",
     "output_type": "stream",
     "text": [
      "Epoch 0: 100%|██████████| 525/525 [05:12<00:00,  1.68it/s, v_num=iwxn]\n"
     ]
    },
    {
     "name": "stderr",
     "output_type": "stream",
     "text": [
      "tokenizing: 100%|██████████| 550/550 [00:00<00:00, 2579.07it/s]\n",
      "tokenizing: 100%|██████████| 1100/1100 [00:00<00:00, 2597.94it/s]\n",
      "LOCAL_RANK: 0 - CUDA_VISIBLE_DEVICES: [0]\n",
      "/opt/conda/lib/python3.8/site-packages/pytorch_lightning/trainer/connectors/data_connector.py:430: PossibleUserWarning: The dataloader, test_dataloader, does not have many workers which may be a bottleneck. Consider increasing the value of the `num_workers` argument` (try 8 which is the number of cpus on this machine) in the `DataLoader` init to improve performance.\n",
      "  rank_zero_warn(\n"
     ]
    },
    {
     "name": "stdout",
     "output_type": "stream",
     "text": [
      "Testing DataLoader 0: 100%|██████████| 35/35 [00:05<00:00,  6.08it/s]\n",
      "────────────────────────────────────────────────────────────────────────────────────────────────────────────────────────\n",
      "       Test metric             DataLoader 0\n",
      "────────────────────────────────────────────────────────────────────────────────────────────────────────────────────────\n",
      "      test_pearson          0.9181534051895142\n",
      "────────────────────────────────────────────────────────────────────────────────────────────────────────────────────────\n"
     ]
    },
    {
     "name": "stderr",
     "output_type": "stream",
     "text": [
      "tokenizing: 100%|██████████| 9324/9324 [00:03<00:00, 2583.34it/s]\n",
      "Using 16bit Automatic Mixed Precision (AMP)\n",
      "GPU available: True (cuda), used: True\n",
      "TPU available: False, using: 0 TPU cores\n",
      "IPU available: False, using: 0 IPUs\n",
      "HPU available: False, using: 0 HPUs\n",
      "tokenizing: 100%|██████████| 9324/9324 [00:03<00:00, 2612.96it/s]\n",
      "/opt/conda/lib/python3.8/site-packages/pytorch_lightning/callbacks/model_checkpoint.py:612: UserWarning: Checkpoint directory ./MS_230412_002_KFold/99o2iwxn/checkpoints exists and is not empty.\n",
      "  rank_zero_warn(f\"Checkpoint directory {dirpath} exists and is not empty.\")\n",
      "LOCAL_RANK: 0 - CUDA_VISIBLE_DEVICES: [0]\n",
      "\n",
      "  | Name      | Type                             | Params\n",
      "---------------------------------------------------------------\n",
      "0 | plm       | RobertaForSequenceClassification | 336 M \n",
      "1 | loss_func | L1Loss                           | 0     \n",
      "---------------------------------------------------------------\n",
      "336 M     Trainable params\n",
      "0         Non-trainable params\n",
      "336 M     Total params\n",
      "1,346.630 Total estimated model params size (MB)\n"
     ]
    },
    {
     "name": "stdout",
     "output_type": "stream",
     "text": [
      "                                                                           "
     ]
    },
    {
     "name": "stderr",
     "output_type": "stream",
     "text": [
      "/opt/conda/lib/python3.8/site-packages/pytorch_lightning/trainer/connectors/data_connector.py:430: PossibleUserWarning: The dataloader, val_dataloader, does not have many workers which may be a bottleneck. Consider increasing the value of the `num_workers` argument` (try 8 which is the number of cpus on this machine) in the `DataLoader` init to improve performance.\n",
      "  rank_zero_warn(\n",
      "/opt/conda/lib/python3.8/site-packages/pytorch_lightning/trainer/connectors/data_connector.py:430: PossibleUserWarning: The dataloader, train_dataloader, does not have many workers which may be a bottleneck. Consider increasing the value of the `num_workers` argument` (try 8 which is the number of cpus on this machine) in the `DataLoader` init to improve performance.\n",
      "  rank_zero_warn(\n"
     ]
    },
    {
     "name": "stdout",
     "output_type": "stream",
     "text": [
      "Epoch 0: 100%|██████████| 525/525 [04:49<00:00,  1.81it/s, v_num=iwxn]\n",
      "Validation: 0it [00:00, ?it/s]\u001b[A\n",
      "Validation:   0%|          | 0/59 [00:00<?, ?it/s]\u001b[A\n",
      "Validation DataLoader 0:   0%|          | 0/59 [00:00<?, ?it/s]\u001b[A\n",
      "Validation DataLoader 0:   2%|▏         | 1/59 [00:00<00:02, 26.01it/s]\u001b[A\n",
      "Validation DataLoader 0:   3%|▎         | 2/59 [00:00<00:04, 11.45it/s]\u001b[A\n",
      "Validation DataLoader 0:   5%|▌         | 3/59 [00:00<00:06,  8.78it/s]\u001b[A\n",
      "Validation DataLoader 0:   7%|▋         | 4/59 [00:00<00:07,  7.85it/s]\u001b[A\n",
      "Validation DataLoader 0:   8%|▊         | 5/59 [00:00<00:07,  7.39it/s]\u001b[A\n",
      "Validation DataLoader 0:  10%|█         | 6/59 [00:00<00:07,  7.11it/s]\u001b[A\n",
      "Validation DataLoader 0:  12%|█▏        | 7/59 [00:01<00:07,  6.92it/s]\u001b[A\n",
      "Validation DataLoader 0:  14%|█▎        | 8/59 [00:01<00:07,  6.79it/s]\u001b[A\n",
      "Validation DataLoader 0:  15%|█▌        | 9/59 [00:01<00:07,  6.69it/s]\u001b[A\n",
      "Validation DataLoader 0:  17%|█▋        | 10/59 [00:01<00:07,  6.61it/s]\u001b[A\n",
      "Validation DataLoader 0:  19%|█▊        | 11/59 [00:01<00:07,  6.55it/s]\u001b[A\n",
      "Validation DataLoader 0:  20%|██        | 12/59 [00:01<00:07,  6.50it/s]\u001b[A\n",
      "Validation DataLoader 0:  22%|██▏       | 13/59 [00:02<00:07,  6.46it/s]\u001b[A\n",
      "Validation DataLoader 0:  24%|██▎       | 14/59 [00:02<00:07,  6.42it/s]\u001b[A\n",
      "Validation DataLoader 0:  25%|██▌       | 15/59 [00:02<00:06,  6.39it/s]\u001b[A\n",
      "Validation DataLoader 0:  27%|██▋       | 16/59 [00:02<00:06,  6.36it/s]\u001b[A\n",
      "Validation DataLoader 0:  29%|██▉       | 17/59 [00:02<00:06,  6.34it/s]\u001b[A\n",
      "Validation DataLoader 0:  31%|███       | 18/59 [00:02<00:06,  6.32it/s]\u001b[A\n",
      "Validation DataLoader 0:  32%|███▏      | 19/59 [00:03<00:06,  6.30it/s]\u001b[A\n",
      "Validation DataLoader 0:  34%|███▍      | 20/59 [00:03<00:06,  6.28it/s]\u001b[A\n",
      "Validation DataLoader 0:  36%|███▌      | 21/59 [00:03<00:06,  6.27it/s]\u001b[A\n",
      "Validation DataLoader 0:  37%|███▋      | 22/59 [00:03<00:05,  6.25it/s]\u001b[A\n",
      "Validation DataLoader 0:  39%|███▉      | 23/59 [00:03<00:05,  6.24it/s]\u001b[A\n",
      "Validation DataLoader 0:  41%|████      | 24/59 [00:03<00:05,  6.23it/s]\u001b[A\n",
      "Validation DataLoader 0:  42%|████▏     | 25/59 [00:04<00:05,  6.22it/s]\u001b[A\n",
      "Validation DataLoader 0:  44%|████▍     | 26/59 [00:04<00:05,  6.21it/s]\u001b[A\n",
      "Validation DataLoader 0:  46%|████▌     | 27/59 [00:04<00:05,  6.20it/s]\u001b[A\n",
      "Validation DataLoader 0:  47%|████▋     | 28/59 [00:04<00:05,  6.19it/s]\u001b[A\n",
      "Validation DataLoader 0:  49%|████▉     | 29/59 [00:04<00:04,  6.19it/s]\u001b[A\n",
      "Validation DataLoader 0:  51%|█████     | 30/59 [00:04<00:04,  6.18it/s]\u001b[A\n",
      "Validation DataLoader 0:  53%|█████▎    | 31/59 [00:05<00:04,  6.17it/s]\u001b[A\n",
      "Validation DataLoader 0:  54%|█████▍    | 32/59 [00:05<00:04,  6.17it/s]\u001b[A\n",
      "Validation DataLoader 0:  56%|█████▌    | 33/59 [00:05<00:04,  6.16it/s]\u001b[A\n",
      "Validation DataLoader 0:  58%|█████▊    | 34/59 [00:05<00:04,  6.15it/s]\u001b[A\n",
      "Validation DataLoader 0:  59%|█████▉    | 35/59 [00:05<00:03,  6.15it/s]\u001b[A\n",
      "Validation DataLoader 0:  61%|██████    | 36/59 [00:05<00:03,  6.15it/s]\u001b[A\n",
      "Validation DataLoader 0:  63%|██████▎   | 37/59 [00:06<00:03,  6.14it/s]\u001b[A\n",
      "Validation DataLoader 0:  64%|██████▍   | 38/59 [00:06<00:03,  6.14it/s]\u001b[A\n",
      "Validation DataLoader 0:  66%|██████▌   | 39/59 [00:06<00:03,  6.13it/s]\u001b[A\n",
      "Validation DataLoader 0:  68%|██████▊   | 40/59 [00:06<00:03,  6.13it/s]\u001b[A\n",
      "Validation DataLoader 0:  69%|██████▉   | 41/59 [00:06<00:02,  6.12it/s]\u001b[A\n",
      "Validation DataLoader 0:  71%|███████   | 42/59 [00:06<00:02,  6.12it/s]\u001b[A\n",
      "Validation DataLoader 0:  73%|███████▎  | 43/59 [00:07<00:02,  6.12it/s]\u001b[A\n",
      "Validation DataLoader 0:  75%|███████▍  | 44/59 [00:07<00:02,  6.11it/s]\u001b[A\n",
      "Validation DataLoader 0:  76%|███████▋  | 45/59 [00:07<00:02,  6.11it/s]\u001b[A\n",
      "Validation DataLoader 0:  78%|███████▊  | 46/59 [00:07<00:02,  6.11it/s]\u001b[A\n",
      "Validation DataLoader 0:  80%|███████▉  | 47/59 [00:07<00:01,  6.11it/s]\u001b[A\n",
      "Validation DataLoader 0:  81%|████████▏ | 48/59 [00:07<00:01,  6.10it/s]\u001b[A\n",
      "Validation DataLoader 0:  83%|████████▎ | 49/59 [00:08<00:01,  6.10it/s]\u001b[A\n",
      "Validation DataLoader 0:  85%|████████▍ | 50/59 [00:08<00:01,  6.10it/s]\u001b[A\n",
      "Validation DataLoader 0:  86%|████████▋ | 51/59 [00:08<00:01,  6.10it/s]\u001b[A\n",
      "Validation DataLoader 0:  88%|████████▊ | 52/59 [00:08<00:01,  6.09it/s]\u001b[A\n",
      "Validation DataLoader 0:  90%|████████▉ | 53/59 [00:08<00:00,  6.09it/s]\u001b[A\n",
      "Validation DataLoader 0:  92%|█████████▏| 54/59 [00:08<00:00,  6.09it/s]\u001b[A\n",
      "Validation DataLoader 0:  93%|█████████▎| 55/59 [00:09<00:00,  6.09it/s]\u001b[A\n",
      "Validation DataLoader 0:  95%|█████████▍| 56/59 [00:09<00:00,  6.09it/s]\u001b[A\n",
      "Validation DataLoader 0:  97%|█████████▋| 57/59 [00:09<00:00,  6.08it/s]\u001b[A\n",
      "Validation DataLoader 0:  98%|█████████▊| 58/59 [00:09<00:00,  6.08it/s]\u001b[A\n",
      "Epoch 0: 100%|██████████| 525/525 [04:59<00:00,  1.75it/s, v_num=iwxn]s]\u001b[A\n",
      "Epoch 0: 100%|██████████| 525/525 [04:59<00:00,  1.75it/s, v_num=iwxn]  \u001b[A"
     ]
    },
    {
     "name": "stderr",
     "output_type": "stream",
     "text": [
      "`Trainer.fit` stopped: `max_epochs=1` reached.\n"
     ]
    },
    {
     "name": "stdout",
     "output_type": "stream",
     "text": [
      "Epoch 0: 100%|██████████| 525/525 [05:13<00:00,  1.67it/s, v_num=iwxn]\n"
     ]
    },
    {
     "name": "stderr",
     "output_type": "stream",
     "text": [
      "tokenizing: 100%|██████████| 550/550 [00:00<00:00, 2510.91it/s]\n",
      "tokenizing: 100%|██████████| 1100/1100 [00:00<00:00, 2506.30it/s]\n",
      "LOCAL_RANK: 0 - CUDA_VISIBLE_DEVICES: [0]\n",
      "/opt/conda/lib/python3.8/site-packages/pytorch_lightning/trainer/connectors/data_connector.py:430: PossibleUserWarning: The dataloader, test_dataloader, does not have many workers which may be a bottleneck. Consider increasing the value of the `num_workers` argument` (try 8 which is the number of cpus on this machine) in the `DataLoader` init to improve performance.\n",
      "  rank_zero_warn(\n"
     ]
    },
    {
     "name": "stdout",
     "output_type": "stream",
     "text": [
      "Testing DataLoader 0: 100%|██████████| 35/35 [00:05<00:00,  6.08it/s]\n",
      "────────────────────────────────────────────────────────────────────────────────────────────────────────────────────────\n",
      "       Test metric             DataLoader 0\n",
      "────────────────────────────────────────────────────────────────────────────────────────────────────────────────────────\n",
      "      test_pearson          0.9219034314155579\n",
      "────────────────────────────────────────────────────────────────────────────────────────────────────────────────────────\n"
     ]
    }
   ],
   "source": [
    "if __name__ == '__main__':\n",
    "    folder_path = '/opt/ml/level1_semantictextsimilarity-nlp-14/SH'\n",
    "    # seed\n",
    "    seed = 42\n",
    "    torch.manual_seed(seed)\n",
    "    torch.cuda.manual_seed(seed)\n",
    "    torch.cuda.manual_seed_all(seed)  # if use multi-GPU\n",
    "    torch.backends.cudnn.deterministic = True\n",
    "    torch.backends.cudnn.benchmark = False\n",
    "    np.random.seed(seed)\n",
    "    random.seed(seed)\n",
    "    pl.seed_everything(seed, workers=True)\n",
    "    # 하이퍼 파라미터 등 각종 설정값을 입력받습니다\n",
    "    # 터미널 실행 예시 : python3 run.py --batch_size=64 ...\n",
    "    # 실행 시 '--batch_size=64' 같은 인자를 입력하지 않으면 default 값이 기본으로 실행됩니다\n",
    "    parser = argparse.ArgumentParser()\n",
    "    parser.add_argument('--model_name', default=\"klue/roberta-large\", type=str)\n",
    "    parser.add_argument('--batch_size', default=16, type=int)\n",
    "    parser.add_argument('--max_epoch', default=1, type=int)\n",
    "    parser.add_argument('--shuffle', default=True)\n",
    "    parser.add_argument('--k', default=1, type=int)\n",
    "    parser.add_argument('--split_seed', default=seed, type=int)\n",
    "    parser.add_argument('--num_splits', default=10, type=int)\n",
    "    parser.add_argument('--learning_rate', default=1e-5, type=float)\n",
    "    parser.add_argument('--train_path', default=folder_path+'/data/train.csv')\n",
    "    parser.add_argument('--dev_path', default=folder_path+'/data/dev.csv')\n",
    "    parser.add_argument('--test_path', default=folder_path+'/data/dev.csv')\n",
    "    parser.add_argument('--predict_path', default=folder_path+'/data/test.csv')\n",
    "    parser.add_argument('--weight_decay', default=0.01)\n",
    "    parser.add_argument('--warm_up_ratio', default=0.3)\n",
    "    parser.add_argument('--loss_func', default=\"L1\")\n",
    "    parser.add_argument('--run_name', default=\"_r001\")\n",
    "    parser.add_argument('--project_name', default=\"MS_230412_002_KFold\")\n",
    "    args = parser.parse_args(args=[])\n",
    "\n",
    "    ### actual model train\n",
    "    # wandb logger\n",
    "    wandb_logger = WandbLogger(project=args.project_name, \n",
    "                               name='mMS_230412_002'+ '_k' + str(args.num_splits) + args.run_name)\n",
    "\n",
    "    # model을 생성합니다.\n",
    "    total_steps = (9324 // args.batch_size + (9324 % args.batch_size != 0)) * args.max_epoch\n",
    "    warmup_steps = int((9324 // args.batch_size + (9324 % args.batch_size != 0)) * args.warm_up_ratio)\n",
    "    model = Model(\n",
    "        args.model_name,\n",
    "        args.learning_rate,\n",
    "        args.weight_decay,\n",
    "        warmup_steps,\n",
    "        total_steps,\n",
    "        args.loss_func\n",
    "    )\n",
    "\n",
    "    # gpu가 없으면 accelerator='cpu', 있으면 accelerator='gpu'\n",
    "    device = torch.device('cuda' if torch.cuda.is_available() else 'cpu')\n",
    "    accelerator = 'gpu' if device == torch.device('cuda') else 'cpu'\n",
    "    \n",
    "    ######################################################################\n",
    "    results = []\n",
    "    # dataloader를 생성합니다. + K-fold\n",
    "    for k in range(args.num_splits):\n",
    "        dataloader = KfoldDataloader(args.model_name, \n",
    "                                 args.batch_size, \n",
    "                                 args.shuffle, \n",
    "                                 k,\n",
    "                                 args.split_seed,\n",
    "                                 args.num_splits,\n",
    "                                 args.train_path, \n",
    "                                 args.dev_path, \n",
    "                                 args.test_path, \n",
    "                                 args.predict_path)\n",
    "        dataloader.prepare_data()\n",
    "        dataloader.setup()\n",
    "        \n",
    "        trainer = pl.Trainer(precision=\"16-mixed\", \n",
    "                         accelerator='gpu', \n",
    "                         max_epochs=args.max_epoch, \n",
    "                         logger=wandb_logger, \n",
    "                         log_every_n_steps=1)\n",
    "        trainer.fit(model=model, datamodule=dataloader)\n",
    "        score = trainer.test(model=model, datamodule=dataloader)\n",
    "\n",
    "        results.extend(score)\n",
    "    ######################################################################\n",
    "\n",
    "    # 학습이 완료된 모델을 저장합니다.\n",
    "    model_name = f\"./MS_230412_002_{args.num_splits}fold.pt\"\n",
    "    torch.save(model, model_name)"
   ]
  },
  {
   "cell_type": "code",
   "execution_count": null,
   "id": "f745992b-78fd-4947-bf00-a177c51a24e8",
   "metadata": {},
   "outputs": [],
   "source": []
  }
 ],
 "metadata": {
  "kernelspec": {
   "display_name": "Python 3 (ipykernel)",
   "language": "python",
   "name": "python3"
  },
  "language_info": {
   "codemirror_mode": {
    "name": "ipython",
    "version": 3
   },
   "file_extension": ".py",
   "mimetype": "text/x-python",
   "name": "python",
   "nbconvert_exporter": "python",
   "pygments_lexer": "ipython3",
   "version": "3.8.5"
  }
 },
 "nbformat": 4,
 "nbformat_minor": 5
}
