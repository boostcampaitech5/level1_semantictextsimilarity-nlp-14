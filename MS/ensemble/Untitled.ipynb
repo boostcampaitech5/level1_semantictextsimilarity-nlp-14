{
 "cells": [
  {
   "cell_type": "code",
   "execution_count": 12,
   "id": "3598c883-54b8-4016-8e39-aee074bd21b7",
   "metadata": {
    "tags": []
   },
   "outputs": [],
   "source": [
    "import pandas as pd\n",
    "\n",
    "from tqdm import tqdm\n",
    "\n",
    "import transformers\n",
    "import torch\n",
    "import torchmetrics\n",
    "import pytorch_lightning as pl\n",
    "from pytorch_lightning.loggers import WandbLogger\n",
    "from pytorch_lightning.tuner import Tuner\n",
    "import wandb\n",
    "from train import Dataset, Dataloader, Model"
   ]
  },
  {
   "cell_type": "code",
   "execution_count": 17,
   "id": "45a28bda-d830-473f-8c3f-39e14e99ec9e",
   "metadata": {
    "tags": []
   },
   "outputs": [],
   "source": [
    "model_name=\"snunlp/KR-ELECTRA-discriminator\"\n",
    "batch_size=16\n",
    "max_epoch=10\n",
    "shuffle=True\n",
    "learning_rate=2e-5\n",
    "train_path='~/data/train_resampled_swap_v2.csv'\n",
    "dev_path='~/data/dev.csv'\n",
    "test_path='~/data/dev.csv'\n",
    "predict_path='~/data/dev.csv'\n",
    "weight_decay=0.01\n",
    "warm_up_ratio=0.3\n",
    "loss_func=\"MSE\"\n",
    "run_name=\"001\"\n",
    "project_name=\"STS_snunlp_9250\"\n",
    "eda=True"
   ]
  },
  {
   "cell_type": "code",
   "execution_count": 15,
   "id": "a0117df7-b62b-4276-9969-62821921ea8e",
   "metadata": {
    "tags": []
   },
   "outputs": [],
   "source": [
    "def get_int_prediction(model_path, model_name, batch_size, shuffle, train_path, dev_path, test_path, predict_path):\n",
    "    # dataloader와 model을 생성합니다.\n",
    "    dataloader = Dataloader(model_name, batch_size, shuffle, train_path, dev_path, test_path, predict_path)\n",
    "\n",
    "    # gpu가 없으면 accelerator='cpu', 있으면 accelerator='gpu'\n",
    "    trainer = pl.Trainer(accelerator='gpu')\n",
    "\n",
    "    # Inference part\n",
    "    # 저장된 모델로 예측을 진행합니다.\n",
    "    if model_path.endswith(\".pt\"):\n",
    "        model = torch.load(model_path)\n",
    "    elif model_path.endswith(\".ckpt\"):\n",
    "        model = Model.load_from_checkpoint(model_path)\n",
    "    predictions = torch.cat(trainer.predict(model=model, datamodule=dataloader)).round().long()\n",
    "    return predictions"
   ]
  },
  {
   "cell_type": "code",
   "execution_count": null,
   "id": "1a1f1b73-a7d9-4ffe-a166-a985fa6d5e73",
   "metadata": {},
   "outputs": [],
   "source": [
    "    # 예측된 결과를 형식에 맞게 반올림하여 준비합니다.\n",
    "    predictions = list(float(i) for i in torch.cat(predictions))\n",
    "\n",
    "    # output 형식을 불러와서 예측된 결과로 바꿔주고, output.csv로 출력합니다.\n",
    "    output = pd.read_csv('~/data/sample_submission.csv')\n",
    "    output['target'] = predictions\n",
    "    output.to_csv('output1.csv', index=False)"
   ]
  },
  {
   "cell_type": "code",
   "execution_count": 16,
   "id": "6e9ec29c-40cd-4899-bf68-17a4882c6908",
   "metadata": {
    "tags": []
   },
   "outputs": [
    {
     "data": {
      "text/html": [
       "<div>\n",
       "<style scoped>\n",
       "    .dataframe tbody tr th:only-of-type {\n",
       "        vertical-align: middle;\n",
       "    }\n",
       "\n",
       "    .dataframe tbody tr th {\n",
       "        vertical-align: top;\n",
       "    }\n",
       "\n",
       "    .dataframe thead th {\n",
       "        text-align: right;\n",
       "    }\n",
       "</style>\n",
       "<table border=\"1\" class=\"dataframe\">\n",
       "  <thead>\n",
       "    <tr style=\"text-align: right;\">\n",
       "      <th></th>\n",
       "      <th>id</th>\n",
       "      <th>source</th>\n",
       "      <th>sentence_1</th>\n",
       "      <th>sentence_2</th>\n",
       "      <th>label</th>\n",
       "      <th>binary-label</th>\n",
       "    </tr>\n",
       "  </thead>\n",
       "  <tbody>\n",
       "    <tr>\n",
       "      <th>0</th>\n",
       "      <td>boostcamp-sts-v1-dev-000</td>\n",
       "      <td>nsmc-sampled</td>\n",
       "      <td>액션은개뿔 총몇번쏘고 끝입니다</td>\n",
       "      <td>액션은 흉내만 내고 그마저도 후반부에는 슬로우모션 처리</td>\n",
       "      <td>2.0</td>\n",
       "      <td>0.0</td>\n",
       "    </tr>\n",
       "    <tr>\n",
       "      <th>1</th>\n",
       "      <td>boostcamp-sts-v1-dev-001</td>\n",
       "      <td>slack-rtt</td>\n",
       "      <td>감격스러워 입막으심?</td>\n",
       "      <td>너무 감동해서 입 다물어?</td>\n",
       "      <td>3.4</td>\n",
       "      <td>1.0</td>\n",
       "    </tr>\n",
       "    <tr>\n",
       "      <th>2</th>\n",
       "      <td>boostcamp-sts-v1-dev-002</td>\n",
       "      <td>nsmc-rtt</td>\n",
       "      <td>이번 년도에 본 영화 중 가장 최악의 영화......</td>\n",
       "      <td>올해 본 영화 중 최악...</td>\n",
       "      <td>4.0</td>\n",
       "      <td>1.0</td>\n",
       "    </tr>\n",
       "    <tr>\n",
       "      <th>3</th>\n",
       "      <td>boostcamp-sts-v1-dev-003</td>\n",
       "      <td>slack-rtt</td>\n",
       "      <td>특히 평소 뮤직채널에 많은 영감을 불어넣어주시는!</td>\n",
       "      <td>특히, 당신은 항상 많은 음악 채널에 영감을 줍니다!</td>\n",
       "      <td>3.4</td>\n",
       "      <td>1.0</td>\n",
       "    </tr>\n",
       "    <tr>\n",
       "      <th>4</th>\n",
       "      <td>boostcamp-sts-v1-dev-004</td>\n",
       "      <td>slack-sampled</td>\n",
       "      <td>다음 밥스테이지가 기대됩니다~ ㅎ</td>\n",
       "      <td>다음 후기도 기대됩니다~~</td>\n",
       "      <td>1.4</td>\n",
       "      <td>0.0</td>\n",
       "    </tr>\n",
       "  </tbody>\n",
       "</table>\n",
       "</div>"
      ],
      "text/plain": [
       "                         id         source                     sentence_1  \\\n",
       "0  boostcamp-sts-v1-dev-000   nsmc-sampled               액션은개뿔 총몇번쏘고 끝입니다   \n",
       "1  boostcamp-sts-v1-dev-001      slack-rtt                    감격스러워 입막으심?   \n",
       "2  boostcamp-sts-v1-dev-002       nsmc-rtt  이번 년도에 본 영화 중 가장 최악의 영화......   \n",
       "3  boostcamp-sts-v1-dev-003      slack-rtt    특히 평소 뮤직채널에 많은 영감을 불어넣어주시는!   \n",
       "4  boostcamp-sts-v1-dev-004  slack-sampled             다음 밥스테이지가 기대됩니다~ ㅎ   \n",
       "\n",
       "                       sentence_2  label  binary-label  \n",
       "0  액션은 흉내만 내고 그마저도 후반부에는 슬로우모션 처리    2.0           0.0  \n",
       "1                  너무 감동해서 입 다물어?    3.4           1.0  \n",
       "2                 올해 본 영화 중 최악...    4.0           1.0  \n",
       "3   특히, 당신은 항상 많은 음악 채널에 영감을 줍니다!    3.4           1.0  \n",
       "4                  다음 후기도 기대됩니다~~    1.4           0.0  "
      ]
     },
     "execution_count": 16,
     "metadata": {},
     "output_type": "execute_result"
    }
   ],
   "source": [
    "dev = pd.read_csv(dev_path)\n",
    "dev.head()"
   ]
  },
  {
   "cell_type": "code",
   "execution_count": 18,
   "id": "d94c3b95-107c-4082-94a5-8fadd7e16752",
   "metadata": {
    "tags": []
   },
   "outputs": [],
   "source": [
    "df = dev.copy()\n",
    "df['label_class'] = df.label.round(0).astype(int)"
   ]
  },
  {
   "cell_type": "code",
   "execution_count": 19,
   "id": "ba1e84fa-a8ec-4861-95b7-79f8835b97c7",
   "metadata": {
    "tags": []
   },
   "outputs": [
    {
     "data": {
      "text/html": [
       "<div>\n",
       "<style scoped>\n",
       "    .dataframe tbody tr th:only-of-type {\n",
       "        vertical-align: middle;\n",
       "    }\n",
       "\n",
       "    .dataframe tbody tr th {\n",
       "        vertical-align: top;\n",
       "    }\n",
       "\n",
       "    .dataframe thead th {\n",
       "        text-align: right;\n",
       "    }\n",
       "</style>\n",
       "<table border=\"1\" class=\"dataframe\">\n",
       "  <thead>\n",
       "    <tr style=\"text-align: right;\">\n",
       "      <th></th>\n",
       "      <th>id</th>\n",
       "      <th>source</th>\n",
       "      <th>sentence_1</th>\n",
       "      <th>sentence_2</th>\n",
       "      <th>label</th>\n",
       "      <th>binary-label</th>\n",
       "      <th>label_class</th>\n",
       "    </tr>\n",
       "  </thead>\n",
       "  <tbody>\n",
       "    <tr>\n",
       "      <th>0</th>\n",
       "      <td>boostcamp-sts-v1-dev-000</td>\n",
       "      <td>nsmc-sampled</td>\n",
       "      <td>액션은개뿔 총몇번쏘고 끝입니다</td>\n",
       "      <td>액션은 흉내만 내고 그마저도 후반부에는 슬로우모션 처리</td>\n",
       "      <td>2.0</td>\n",
       "      <td>0.0</td>\n",
       "      <td>2</td>\n",
       "    </tr>\n",
       "    <tr>\n",
       "      <th>1</th>\n",
       "      <td>boostcamp-sts-v1-dev-001</td>\n",
       "      <td>slack-rtt</td>\n",
       "      <td>감격스러워 입막으심?</td>\n",
       "      <td>너무 감동해서 입 다물어?</td>\n",
       "      <td>3.4</td>\n",
       "      <td>1.0</td>\n",
       "      <td>3</td>\n",
       "    </tr>\n",
       "    <tr>\n",
       "      <th>2</th>\n",
       "      <td>boostcamp-sts-v1-dev-002</td>\n",
       "      <td>nsmc-rtt</td>\n",
       "      <td>이번 년도에 본 영화 중 가장 최악의 영화......</td>\n",
       "      <td>올해 본 영화 중 최악...</td>\n",
       "      <td>4.0</td>\n",
       "      <td>1.0</td>\n",
       "      <td>4</td>\n",
       "    </tr>\n",
       "    <tr>\n",
       "      <th>3</th>\n",
       "      <td>boostcamp-sts-v1-dev-003</td>\n",
       "      <td>slack-rtt</td>\n",
       "      <td>특히 평소 뮤직채널에 많은 영감을 불어넣어주시는!</td>\n",
       "      <td>특히, 당신은 항상 많은 음악 채널에 영감을 줍니다!</td>\n",
       "      <td>3.4</td>\n",
       "      <td>1.0</td>\n",
       "      <td>3</td>\n",
       "    </tr>\n",
       "    <tr>\n",
       "      <th>4</th>\n",
       "      <td>boostcamp-sts-v1-dev-004</td>\n",
       "      <td>slack-sampled</td>\n",
       "      <td>다음 밥스테이지가 기대됩니다~ ㅎ</td>\n",
       "      <td>다음 후기도 기대됩니다~~</td>\n",
       "      <td>1.4</td>\n",
       "      <td>0.0</td>\n",
       "      <td>1</td>\n",
       "    </tr>\n",
       "  </tbody>\n",
       "</table>\n",
       "</div>"
      ],
      "text/plain": [
       "                         id         source                     sentence_1  \\\n",
       "0  boostcamp-sts-v1-dev-000   nsmc-sampled               액션은개뿔 총몇번쏘고 끝입니다   \n",
       "1  boostcamp-sts-v1-dev-001      slack-rtt                    감격스러워 입막으심?   \n",
       "2  boostcamp-sts-v1-dev-002       nsmc-rtt  이번 년도에 본 영화 중 가장 최악의 영화......   \n",
       "3  boostcamp-sts-v1-dev-003      slack-rtt    특히 평소 뮤직채널에 많은 영감을 불어넣어주시는!   \n",
       "4  boostcamp-sts-v1-dev-004  slack-sampled             다음 밥스테이지가 기대됩니다~ ㅎ   \n",
       "\n",
       "                       sentence_2  label  binary-label  label_class  \n",
       "0  액션은 흉내만 내고 그마저도 후반부에는 슬로우모션 처리    2.0           0.0            2  \n",
       "1                  너무 감동해서 입 다물어?    3.4           1.0            3  \n",
       "2                 올해 본 영화 중 최악...    4.0           1.0            4  \n",
       "3   특히, 당신은 항상 많은 음악 채널에 영감을 줍니다!    3.4           1.0            3  \n",
       "4                  다음 후기도 기대됩니다~~    1.4           0.0            1  "
      ]
     },
     "execution_count": 19,
     "metadata": {},
     "output_type": "execute_result"
    }
   ],
   "source": [
    "df.head()"
   ]
  },
  {
   "cell_type": "code",
   "execution_count": null,
   "id": "9fdacff1-677a-4233-8b11-e545381537da",
   "metadata": {},
   "outputs": [],
   "source": []
  }
 ],
 "metadata": {
  "kernelspec": {
   "display_name": "Python 3 (ipykernel)",
   "language": "python",
   "name": "python3"
  },
  "language_info": {
   "codemirror_mode": {
    "name": "ipython",
    "version": 3
   },
   "file_extension": ".py",
   "mimetype": "text/x-python",
   "name": "python",
   "nbconvert_exporter": "python",
   "pygments_lexer": "ipython3",
   "version": "3.8.5"
  }
 },
 "nbformat": 4,
 "nbformat_minor": 5
}
