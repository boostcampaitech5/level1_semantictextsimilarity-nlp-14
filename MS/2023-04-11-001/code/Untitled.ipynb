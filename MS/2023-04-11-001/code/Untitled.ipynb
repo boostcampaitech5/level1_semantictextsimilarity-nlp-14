{
 "cells": [
  {
   "cell_type": "code",
   "execution_count": 1,
   "id": "7f4e3ae0-cd38-49d2-aa63-df602d8d95fe",
   "metadata": {
    "tags": []
   },
   "outputs": [
    {
     "name": "stderr",
     "output_type": "stream",
     "text": [
      "/opt/conda/lib/python3.8/site-packages/tqdm/auto.py:21: TqdmWarning: IProgress not found. Please update jupyter and ipywidgets. See https://ipywidgets.readthedocs.io/en/stable/user_install.html\n",
      "  from .autonotebook import tqdm as notebook_tqdm\n"
     ]
    }
   ],
   "source": [
    "import argparse\n",
    "\n",
    "import pandas as pd\n",
    "\n",
    "from tqdm.auto import tqdm\n",
    "\n",
    "import transformers\n",
    "import torch\n",
    "import torchmetrics\n",
    "import pytorch_lightning as pl\n",
    "from pytorch_lightning.loggers import WandbLogger\n",
    "import wandb\n",
    "\n",
    "class Dataset(torch.utils.data.Dataset):\n",
    "    def __init__(self, inputs, targets=[]):\n",
    "        self.inputs = inputs\n",
    "        self.targets = targets\n",
    "\n",
    "    # 학습 및 추론 과정에서 데이터를 1개씩 꺼내오는 곳\n",
    "    def __getitem__(self, idx):\n",
    "        # 정답이 있다면 else문을, 없다면 if문을 수행합니다\n",
    "        if len(self.targets) == 0:\n",
    "            return torch.tensor(self.inputs[idx])\n",
    "        else:\n",
    "            return torch.tensor(self.inputs[idx]), torch.tensor(self.targets[idx])\n",
    "\n",
    "    # 입력하는 개수만큼 데이터를 사용합니다\n",
    "    def __len__(self):\n",
    "        return len(self.inputs)\n",
    "\n",
    "\n",
    "class Dataloader(pl.LightningDataModule):\n",
    "    def __init__(self, model_name, batch_size, shuffle, train_path, dev_path, test_path, predict_path):\n",
    "        super().__init__()\n",
    "        self.model_name = model_name\n",
    "        self.batch_size = batch_size\n",
    "        self.shuffle = shuffle\n",
    "\n",
    "        self.train_path = train_path\n",
    "        self.dev_path = dev_path\n",
    "        self.test_path = test_path\n",
    "        self.predict_path = predict_path\n",
    "\n",
    "        self.train_dataset = None\n",
    "        self.val_dataset = None\n",
    "        self.test_dataset = None\n",
    "        self.predict_dataset = None\n",
    "\n",
    "        self.tokenizer = transformers.AutoTokenizer.from_pretrained(model_name, max_length=160)\n",
    "        self.target_columns = ['label']\n",
    "        self.delete_columns = ['id']\n",
    "        self.text_columns = ['sentence_1', 'sentence_2']\n",
    "\n",
    "    def tokenizing(self, dataframe):\n",
    "        data = []\n",
    "        for idx, item in tqdm(dataframe.iterrows(), desc='tokenizing', total=len(dataframe)):\n",
    "            # 두 입력 문장을 [SEP] 토큰으로 이어붙여서 전처리합니다.\n",
    "            text = '[SEP]'.join([item[text_column] for text_column in self.text_columns])\n",
    "            outputs = self.tokenizer(text, add_special_tokens=True, padding='max_length', truncation=True)\n",
    "            data.append(outputs['input_ids'])\n",
    "        return data\n",
    "\n",
    "    def preprocessing(self, data):\n",
    "        # 안쓰는 컬럼을 삭제합니다.\n",
    "        data = data.drop(columns=self.delete_columns)\n",
    "\n",
    "        # 타겟 데이터가 없으면 빈 배열을 리턴합니다.\n",
    "        try:\n",
    "            targets = data[self.target_columns].values.tolist()\n",
    "        except:\n",
    "            targets = []\n",
    "        # 텍스트 데이터를 전처리합니다.\n",
    "        inputs = self.tokenizing(data)\n",
    "\n",
    "        return inputs, targets\n",
    "\n",
    "    def setup(self, stage='fit'):\n",
    "        if stage == 'fit':\n",
    "            # 학습 데이터와 검증 데이터셋을 호출합니다\n",
    "            train_data = pd.read_csv(self.train_path)\n",
    "            val_data = pd.read_csv(self.dev_path)\n",
    "\n",
    "            # 학습데이터 준비\n",
    "            train_inputs, train_targets = self.preprocessing(train_data)\n",
    "\n",
    "            # 검증데이터 준비\n",
    "            val_inputs, val_targets = self.preprocessing(val_data)\n",
    "\n",
    "            # train 데이터만 shuffle을 적용해줍니다, 필요하다면 val, test 데이터에도 shuffle을 적용할 수 있습니다\n",
    "            self.train_dataset = Dataset(train_inputs, train_targets)\n",
    "            self.val_dataset = Dataset(val_inputs, val_targets)\n",
    "        else:\n",
    "            # 평가데이터 준비\n",
    "            test_data = pd.read_csv(self.test_path)\n",
    "            test_inputs, test_targets = self.preprocessing(test_data)\n",
    "            self.test_dataset = Dataset(test_inputs, test_targets)\n",
    "\n",
    "            predict_data = pd.read_csv(self.predict_path)\n",
    "            predict_inputs, predict_targets = self.preprocessing(predict_data)\n",
    "            self.predict_dataset = Dataset(predict_inputs, [])\n",
    "\n",
    "    def train_dataloader(self):\n",
    "        return torch.utils.data.DataLoader(self.train_dataset, batch_size=self.batch_size, shuffle=args.shuffle)\n",
    "\n",
    "    def val_dataloader(self):\n",
    "        return torch.utils.data.DataLoader(self.val_dataset, batch_size=self.batch_size)\n",
    "\n",
    "    def test_dataloader(self):\n",
    "        return torch.utils.data.DataLoader(self.test_dataset, batch_size=self.batch_size)\n",
    "\n",
    "    def predict_dataloader(self):\n",
    "        return torch.utils.data.DataLoader(self.predict_dataset, batch_size=self.batch_size)\n",
    "\n",
    "\n",
    "class Model(pl.LightningModule):\n",
    "    def __init__(self, model_name, lr):\n",
    "        super().__init__()\n",
    "        self.save_hyperparameters()\n",
    "\n",
    "        self.model_name = model_name\n",
    "        self.lr = lr\n",
    "\n",
    "        # 사용할 모델을 호출합니다.\n",
    "        self.plm = transformers.AutoModelForSequenceClassification.from_pretrained(\n",
    "            pretrained_model_name_or_path=model_name, num_labels=1)\n",
    "        \n",
    "        for param in self.plm.roberta.embeddings.parameters():\n",
    "            param.requires_grad = False\n",
    "        # Loss 계산을 위해 사용될 L1Loss를 호출합니다.\n",
    "        self.loss_func = torch.nn.MSELoss()\n",
    "\n",
    "    def forward(self, x):\n",
    "        x = self.plm(x)['logits']\n",
    "\n",
    "        return x\n",
    "\n",
    "    def training_step(self, batch, batch_idx):\n",
    "        x, y = batch\n",
    "        logits = self(x)\n",
    "        loss = self.loss_func(logits, y.float())\n",
    "        self.log(\"train_loss\", loss)\n",
    "\n",
    "        return loss\n",
    "\n",
    "    def validation_step(self, batch, batch_idx):\n",
    "        x, y = batch\n",
    "        logits = self(x)\n",
    "        loss = self.loss_func(logits, y.float())\n",
    "        self.log(\"val_loss\", loss)\n",
    "\n",
    "        self.log(\"val_pearson\", torchmetrics.functional.pearson_corrcoef(logits.squeeze(), y.squeeze()))\n",
    "\n",
    "        return loss\n",
    "\n",
    "    def test_step(self, batch, batch_idx):\n",
    "        x, y = batch\n",
    "        logits = self(x)\n",
    "\n",
    "        self.log(\"test_pearson\", torchmetrics.functional.pearson_corrcoef(logits.squeeze(), y.squeeze()))\n",
    "\n",
    "    def predict_step(self, batch, batch_idx):\n",
    "        x = batch\n",
    "        logits = self(x)\n",
    "\n",
    "        return logits.squeeze()\n",
    "\n",
    "    def configure_optimizers(self):\n",
    "        optimizer = torch.optim.AdamW(self.parameters(), lr=self.lr)\n",
    "        return optimizer"
   ]
  },
  {
   "cell_type": "code",
   "execution_count": 2,
   "id": "f449056e-5fcf-432b-96f4-3dbfeb4596ab",
   "metadata": {
    "tags": []
   },
   "outputs": [
    {
     "name": "stderr",
     "output_type": "stream",
     "text": [
      "Some weights of the model checkpoint at klue/roberta-small were not used when initializing RobertaForSequenceClassification: ['lm_head.layer_norm.bias', 'lm_head.dense.weight', 'lm_head.dense.bias', 'lm_head.decoder.bias', 'lm_head.bias', 'lm_head.layer_norm.weight', 'lm_head.decoder.weight']\n",
      "- This IS expected if you are initializing RobertaForSequenceClassification from the checkpoint of a model trained on another task or with another architecture (e.g. initializing a BertForSequenceClassification model from a BertForPreTraining model).\n",
      "- This IS NOT expected if you are initializing RobertaForSequenceClassification from the checkpoint of a model that you expect to be exactly identical (initializing a BertForSequenceClassification model from a BertForSequenceClassification model).\n",
      "Some weights of RobertaForSequenceClassification were not initialized from the model checkpoint at klue/roberta-small and are newly initialized: ['classifier.out_proj.weight', 'classifier.dense.bias', 'classifier.out_proj.bias', 'classifier.dense.weight']\n",
      "You should probably TRAIN this model on a down-stream task to be able to use it for predictions and inference.\n",
      "GPU available: True (cuda), used: True\n",
      "TPU available: False, using: 0 TPU cores\n",
      "IPU available: False, using: 0 IPUs\n",
      "HPU available: False, using: 0 HPUs\n",
      "/opt/conda/lib/python3.8/site-packages/pytorch_lightning/trainer/connectors/logger_connector/logger_connector.py:67: UserWarning: Starting from v1.9.0, `tensorboardX` has been removed as a dependency of the `pytorch_lightning` package, due to potential conflicts with other packages in the ML ecosystem. For this reason, `logger=True` will use `CSVLogger` as the default logger, unless the `tensorboard` or `tensorboardX` packages are found. Please `pip install lightning[extra]` or one of them to enable TensorBoard support by default\n",
      "  warning_cache.warn(\n",
      "tokenizing: 100%|██████████| 9324/9324 [00:03<00:00, 2855.67it/s]\n",
      "tokenizing: 100%|██████████| 550/550 [00:00<00:00, 2945.84it/s]\n",
      "LOCAL_RANK: 0 - CUDA_VISIBLE_DEVICES: [0]\n",
      "\n",
      "  | Name      | Type                             | Params\n",
      "---------------------------------------------------------------\n",
      "0 | plm       | RobertaForSequenceClassification | 68.1 M\n",
      "1 | loss_func | MSELoss                          | 0     \n",
      "---------------------------------------------------------------\n",
      "43.1 M    Trainable params\n",
      "25.0 M    Non-trainable params\n",
      "68.1 M    Total params\n",
      "272.367   Total estimated model params size (MB)\n"
     ]
    },
    {
     "name": "stdout",
     "output_type": "stream",
     "text": [
      "Sanity Checking DataLoader 0:   0%|          | 0/2 [00:00<?, ?it/s]"
     ]
    },
    {
     "name": "stderr",
     "output_type": "stream",
     "text": [
      "/opt/conda/lib/python3.8/site-packages/pytorch_lightning/trainer/connectors/data_connector.py:430: PossibleUserWarning: The dataloader, val_dataloader, does not have many workers which may be a bottleneck. Consider increasing the value of the `num_workers` argument` (try 8 which is the number of cpus on this machine) in the `DataLoader` init to improve performance.\n",
      "  rank_zero_warn(\n"
     ]
    },
    {
     "name": "stdout",
     "output_type": "stream",
     "text": [
      "                                                                           "
     ]
    },
    {
     "name": "stderr",
     "output_type": "stream",
     "text": [
      "/opt/conda/lib/python3.8/site-packages/pytorch_lightning/trainer/connectors/data_connector.py:430: PossibleUserWarning: The dataloader, train_dataloader, does not have many workers which may be a bottleneck. Consider increasing the value of the `num_workers` argument` (try 8 which is the number of cpus on this machine) in the `DataLoader` init to improve performance.\n",
      "  rank_zero_warn(\n"
     ]
    },
    {
     "name": "stdout",
     "output_type": "stream",
     "text": [
      "Epoch 0: 100%|██████████| 583/583 [02:22<00:00,  4.10it/s, v_num=4]\n",
      "Validation: 0it [00:00, ?it/s]\u001b[A\n",
      "Validation:   0%|          | 0/35 [00:00<?, ?it/s]\u001b[A\n",
      "Validation DataLoader 0:   0%|          | 0/35 [00:00<?, ?it/s]\u001b[A\n",
      "Validation DataLoader 0:   3%|▎         | 1/35 [00:00<00:00, 75.12it/s]\u001b[A\n",
      "Validation DataLoader 0:   6%|▌         | 2/35 [00:00<00:00, 77.68it/s]\u001b[A\n",
      "Validation DataLoader 0:   9%|▊         | 3/35 [00:00<00:00, 79.17it/s]\u001b[A\n",
      "Validation DataLoader 0:  11%|█▏        | 4/35 [00:00<00:00, 79.66it/s]\u001b[A\n",
      "Validation DataLoader 0:  14%|█▍        | 5/35 [00:00<00:00, 80.01it/s]\u001b[A\n",
      "Validation DataLoader 0:  17%|█▋        | 6/35 [00:00<00:00, 68.91it/s]\u001b[A\n",
      "Validation DataLoader 0:  20%|██        | 7/35 [00:00<00:00, 42.41it/s]\u001b[A\n",
      "Validation DataLoader 0:  23%|██▎       | 8/35 [00:00<00:00, 32.93it/s]\u001b[A\n",
      "Validation DataLoader 0:  26%|██▌       | 9/35 [00:00<00:00, 28.09it/s]\u001b[A\n",
      "Validation DataLoader 0:  29%|██▊       | 10/35 [00:00<00:00, 25.14it/s]\u001b[A\n",
      "Validation DataLoader 0:  31%|███▏      | 11/35 [00:00<00:01, 23.15it/s]\u001b[A\n",
      "Validation DataLoader 0:  34%|███▍      | 12/35 [00:00<00:01, 21.63it/s]\u001b[A\n",
      "Validation DataLoader 0:  37%|███▋      | 13/35 [00:00<00:01, 20.62it/s]\u001b[A\n",
      "Validation DataLoader 0:  40%|████      | 14/35 [00:00<00:01, 19.77it/s]\u001b[A\n",
      "Validation DataLoader 0:  43%|████▎     | 15/35 [00:00<00:01, 19.11it/s]\u001b[A\n",
      "Validation DataLoader 0:  46%|████▌     | 16/35 [00:00<00:01, 18.56it/s]\u001b[A\n",
      "Validation DataLoader 0:  49%|████▊     | 17/35 [00:00<00:00, 18.10it/s]\u001b[A\n",
      "Validation DataLoader 0:  51%|█████▏    | 18/35 [00:01<00:00, 17.71it/s]\u001b[A\n",
      "Validation DataLoader 0:  54%|█████▍    | 19/35 [00:01<00:00, 17.37it/s]\u001b[A\n",
      "Validation DataLoader 0:  57%|█████▋    | 20/35 [00:01<00:00, 17.08it/s]\u001b[A\n",
      "Validation DataLoader 0:  60%|██████    | 21/35 [00:01<00:00, 16.82it/s]\u001b[A\n",
      "Validation DataLoader 0:  63%|██████▎   | 22/35 [00:01<00:00, 16.58it/s]\u001b[A\n",
      "Validation DataLoader 0:  66%|██████▌   | 23/35 [00:01<00:00, 16.39it/s]\u001b[A\n",
      "Validation DataLoader 0:  69%|██████▊   | 24/35 [00:01<00:00, 16.20it/s]\u001b[A\n",
      "Validation DataLoader 0:  71%|███████▏  | 25/35 [00:01<00:00, 16.04it/s]\u001b[A\n",
      "Validation DataLoader 0:  74%|███████▍  | 26/35 [00:01<00:00, 15.89it/s]\u001b[A\n",
      "Validation DataLoader 0:  77%|███████▋  | 27/35 [00:01<00:00, 15.75it/s]\u001b[A\n",
      "Validation DataLoader 0:  80%|████████  | 28/35 [00:01<00:00, 15.64it/s]\u001b[A\n",
      "Validation DataLoader 0:  83%|████████▎ | 29/35 [00:01<00:00, 15.53it/s]\u001b[A\n",
      "Validation DataLoader 0:  86%|████████▌ | 30/35 [00:01<00:00, 15.42it/s]\u001b[A\n",
      "Validation DataLoader 0:  89%|████████▊ | 31/35 [00:02<00:00, 15.33it/s]\u001b[A\n",
      "Validation DataLoader 0:  91%|█████████▏| 32/35 [00:02<00:00, 15.24it/s]\u001b[A\n",
      "Validation DataLoader 0:  94%|█████████▍| 33/35 [00:02<00:00, 15.16it/s]\u001b[A\n",
      "Validation DataLoader 0:  97%|█████████▋| 34/35 [00:02<00:00, 15.08it/s]\u001b[A\n",
      "Epoch 0: 100%|██████████| 583/583 [02:24<00:00,  4.02it/s, v_num=4]it/s]\u001b[A\n",
      "Epoch 0: 100%|██████████| 583/583 [02:24<00:00,  4.02it/s, v_num=4]     \u001b[A"
     ]
    },
    {
     "name": "stderr",
     "output_type": "stream",
     "text": [
      "`Trainer.fit` stopped: `max_epochs=1` reached.\n"
     ]
    },
    {
     "name": "stdout",
     "output_type": "stream",
     "text": [
      "Epoch 0: 100%|██████████| 583/583 [02:26<00:00,  3.99it/s, v_num=4]\n"
     ]
    },
    {
     "name": "stderr",
     "output_type": "stream",
     "text": [
      "tokenizing: 100%|██████████| 550/550 [00:00<00:00, 2883.33it/s]\n",
      "tokenizing: 100%|██████████| 1100/1100 [00:00<00:00, 2843.85it/s]\n",
      "LOCAL_RANK: 0 - CUDA_VISIBLE_DEVICES: [0]\n",
      "/opt/conda/lib/python3.8/site-packages/pytorch_lightning/trainer/connectors/data_connector.py:430: PossibleUserWarning: The dataloader, test_dataloader, does not have many workers which may be a bottleneck. Consider increasing the value of the `num_workers` argument` (try 8 which is the number of cpus on this machine) in the `DataLoader` init to improve performance.\n",
      "  rank_zero_warn(\n"
     ]
    },
    {
     "name": "stdout",
     "output_type": "stream",
     "text": [
      "Testing DataLoader 0: 100%|██████████| 35/35 [00:02<00:00, 13.13it/s]\n",
      "────────────────────────────────────────────────────────────────────────────────────────────────────────────────────────\n",
      "       Test metric             DataLoader 0\n",
      "────────────────────────────────────────────────────────────────────────────────────────────────────────────────────────\n",
      "      test_pearson          0.7009119987487793\n",
      "────────────────────────────────────────────────────────────────────────────────────────────────────────────────────────\n"
     ]
    }
   ],
   "source": [
    "if __name__ == '__main__':\n",
    "    # 하이퍼 파라미터 등 각종 설정값을 입력받습니다\n",
    "    # 터미널 실행 예시 : python3 run.py --batch_size=64 ...\n",
    "    # 실행 시 '--batch_size=64' 같은 인자를 입력하지 않으면 default 값이 기본으로 실행됩니다\n",
    "    parser = argparse.ArgumentParser()\n",
    "    parser.add_argument('--model_name', default='klue/roberta-small', type=str)\n",
    "    parser.add_argument('--batch_size', default=16, type=int)\n",
    "    parser.add_argument('--max_epoch', default=1, type=int)\n",
    "    parser.add_argument('--shuffle', default=True)\n",
    "    parser.add_argument('--learning_rate', default=1e-5, type=float)\n",
    "    parser.add_argument('--train_path', default='~/data/train.csv')\n",
    "    parser.add_argument('--dev_path', default='~/data/dev.csv')\n",
    "    parser.add_argument('--test_path', default='~/data/dev.csv')\n",
    "    parser.add_argument('--predict_path', default='~/data/test.csv')\n",
    "    args = parser.parse_args(args=[])\n",
    "\n",
    "    # dataloader와 model을 생성합니다.\n",
    "    dataloader = Dataloader(args.model_name, args.batch_size, args.shuffle, args.train_path, args.dev_path,\n",
    "                            args.test_path, args.predict_path)\n",
    "    model = Model(args.model_name, args.learning_rate)\n",
    "    # print(model)\n",
    "\n",
    "    # gpu가 없으면 accelerator='cpu', 있으면 accelerator='gpu'\n",
    "    trainer = pl.Trainer(accelerator='gpu', max_epochs=args.max_epoch, log_every_n_steps=1)\n",
    "\n",
    "    # Train part\n",
    "    trainer.fit(model=model, datamodule=dataloader)\n",
    "    trainer.test(model=model, datamodule=dataloader)\n",
    "\n",
    "    # 학습이 완료된 모델을 저장합니다.\n",
    "    torch.save(model, 'model.pt')"
   ]
  },
  {
   "cell_type": "code",
   "execution_count": 4,
   "id": "46a26ce4-bbba-40d5-aa3d-d93bae7cff32",
   "metadata": {
    "tags": []
   },
   "outputs": [
    {
     "data": {
      "text/plain": [
       "'2.0.0+cu117'"
      ]
     },
     "execution_count": 4,
     "metadata": {},
     "output_type": "execute_result"
    }
   ],
   "source": [
    "torch.__version__"
   ]
  },
  {
   "cell_type": "code",
   "execution_count": null,
   "id": "947efe1b-218b-4a9a-9e9e-3ed3cc330ce2",
   "metadata": {},
   "outputs": [],
   "source": []
  }
 ],
 "metadata": {
  "kernelspec": {
   "display_name": "Python 3 (ipykernel)",
   "language": "python",
   "name": "python3"
  },
  "language_info": {
   "codemirror_mode": {
    "name": "ipython",
    "version": 3
   },
   "file_extension": ".py",
   "mimetype": "text/x-python",
   "name": "python",
   "nbconvert_exporter": "python",
   "pygments_lexer": "ipython3",
   "version": "3.8.5"
  }
 },
 "nbformat": 4,
 "nbformat_minor": 5
}
